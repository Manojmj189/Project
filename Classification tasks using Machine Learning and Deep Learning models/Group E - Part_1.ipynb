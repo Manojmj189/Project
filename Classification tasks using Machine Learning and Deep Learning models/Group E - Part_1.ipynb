{
  "cells": [
    {
      "cell_type": "markdown",
      "id": "47cccc32",
      "metadata": {
        "id": "47cccc32"
      },
      "source": [
        "# GROUP E - PART 1- RELEVANCE CLASSIFICATION\n",
        "## Overview\n",
        "\n",
        "This project explored different machine learning models for the Relevance Classification Task, focusing on classifying text data. An initial examination of the data guided the preprocessing methods, which included text normalization and vectorization using TF-IDF. The study began with logistic regression as a basic model and advanced through experiments with multilayer neural networks and sophisticated architectures like LSTM and GRU. The results demonstrated that GRU models, fine-tuned for specific parameters such as the number of units and dropout rates, significantly improved classification accuracy. It is suggested that future work could benefit from exploring ensemble methods and more complex neural network configurations to further enhance the models' effectiveness and reliability."
      ]
    },
    {
      "cell_type": "code",
      "execution_count": null,
      "id": "059e82be",
      "metadata": {
        "id": "059e82be"
      },
      "outputs": [],
      "source": [
        "# Loading necessary Libraries\n",
        "import numpy as np\n",
        "import pandas as pd\n",
        "import matplotlib.pyplot as plt\n",
        "import re\n",
        "\n",
        "from sklearn.feature_extraction.text import TfidfVectorizer\n",
        "from sklearn.model_selection import train_test_split\n",
        "from sklearn.linear_model import LogisticRegression\n",
        "from sklearn.metrics import classification_report, accuracy_score, precision_score, recall_score, f1_score\n",
        "\n",
        "\n",
        "from tensorflow.keras.models import Sequential\n",
        "from tensorflow.keras.preprocessing.text import Tokenizer\n",
        "from tensorflow.keras.preprocessing.sequence import pad_sequences\n",
        "from tensorflow.keras.layers import Embedding, LSTM, Dense, SpatialDropout1D, GRU, Dropout"
      ]
    },
    {
      "cell_type": "code",
      "execution_count": null,
      "id": "71e74852",
      "metadata": {
        "id": "71e74852"
      },
      "outputs": [],
      "source": [
        "# loading the train and test data\n",
        "train_parquet_file = 'relevance_train.parquet'\n",
        "test_parquet_file = 'relevance_test.parquet'\n",
        "\n",
        "train_df = pd.read_parquet(train_parquet_file)\n",
        "test_df = pd.read_parquet(test_parquet_file)"
      ]
    },
    {
      "cell_type": "markdown",
      "id": "64ee8d9b",
      "metadata": {
        "id": "64ee8d9b"
      },
      "source": [
        "## Method\n",
        "### 1. Data Exploration\n",
        "The exploration of the dataset revealed several key insights that influenced the modeling approach. Firstly, the presence of missing values in critical textual fields like body and title necessitated a careful handling strategy to preserve as much useful information as possible. Secondly, the class imbalance observed in the judgement field highlighted the need for strategies that could mitigate this issue, ensuring that models do not develop a bias toward the majority class. Lastly, the variability in text length suggested the importance of uniform text representation for effective model training."
      ]
    },
    {
      "cell_type": "code",
      "execution_count": null,
      "id": "e087b3ce",
      "metadata": {
        "id": "e087b3ce",
        "outputId": "bf5902f0-97a7-451b-e483-a4e5de1ca09c"
      },
      "outputs": [
        {
          "name": "stdout",
          "output_type": "stream",
          "text": [
            "<class 'pandas.core.frame.DataFrame'>\n",
            "Index: 21120 entries, 0 to 26232\n",
            "Data columns (total 10 columns):\n",
            " #   Column       Non-Null Count  Dtype \n",
            "---  ------       --------------  ----- \n",
            " 0   doc_id       21120 non-null  object\n",
            " 1   judgement    21120 non-null  int64 \n",
            " 2   author       18185 non-null  object\n",
            " 3   body         19689 non-null  object\n",
            " 4   byline       18250 non-null  object\n",
            " 5   title        19758 non-null  object\n",
            " 6   topic_id     21120 non-null  int64 \n",
            " 7   description  21120 non-null  object\n",
            " 8   narrative    21120 non-null  object\n",
            " 9   topic_title  21120 non-null  object\n",
            "dtypes: int64(2), object(8)\n",
            "memory usage: 1.8+ MB\n",
            "None\n",
            "<class 'pandas.core.frame.DataFrame'>\n",
            "Index: 5113 entries, 2050 to 24961\n",
            "Data columns (total 9 columns):\n",
            " #   Column       Non-Null Count  Dtype \n",
            "---  ------       --------------  ----- \n",
            " 0   doc_id       5113 non-null   object\n",
            " 1   author       4584 non-null   object\n",
            " 2   body         4874 non-null   object\n",
            " 3   byline       4584 non-null   object\n",
            " 4   title        4884 non-null   object\n",
            " 5   topic_id     5113 non-null   int64 \n",
            " 6   description  5113 non-null   object\n",
            " 7   narrative    5113 non-null   object\n",
            " 8   topic_title  5113 non-null   object\n",
            "dtypes: int64(1), object(8)\n",
            "memory usage: 399.5+ KB\n",
            "None\n"
          ]
        }
      ],
      "source": [
        "# Basic info about the dataset\n",
        "print(train_df.info())\n",
        "print(test_df.info())"
      ]
    },
    {
      "cell_type": "code",
      "execution_count": null,
      "id": "536ff9b6",
      "metadata": {
        "id": "536ff9b6",
        "outputId": "a25e8e74-bed6-4932-f723-91f56feb48a2"
      },
      "outputs": [
        {
          "name": "stdout",
          "output_type": "stream",
          "text": [
            "Train data: \n",
            "          judgement      topic_id\n",
            "count  21120.000000  21120.000000\n",
            "mean       0.156439    599.917850\n",
            "std        0.363280    207.756399\n",
            "min        0.000000    321.000000\n",
            "25%        0.000000    397.000000\n",
            "50%        0.000000    626.000000\n",
            "75%        0.000000    812.000000\n",
            "max        1.000000    825.000000\n",
            "Test data: \n",
            "          topic_id\n",
            "count  5113.000000\n",
            "mean    611.451203\n",
            "std     200.264212\n",
            "min     350.000000\n",
            "25%     414.000000\n",
            "50%     646.000000\n",
            "75%     814.000000\n",
            "max     822.000000\n"
          ]
        }
      ],
      "source": [
        "# Summary statistics for numerical fields\n",
        "print('Train data: ')\n",
        "print(train_df.describe())\n",
        "print('Test data: ')\n",
        "print(test_df.describe())"
      ]
    },
    {
      "cell_type": "code",
      "execution_count": null,
      "id": "02fcff03",
      "metadata": {
        "id": "02fcff03",
        "outputId": "5f8ed9c8-32aa-44ef-a7f6-0401d4c49fdd"
      },
      "outputs": [
        {
          "name": "stdout",
          "output_type": "stream",
          "text": [
            "Train data: \n",
            "doc_id            0\n",
            "judgement         0\n",
            "author         2935\n",
            "body           1431\n",
            "byline         2870\n",
            "title          1362\n",
            "topic_id          0\n",
            "description       0\n",
            "narrative         0\n",
            "topic_title       0\n",
            "dtype: int64\n",
            "Test data: \n",
            "doc_id           0\n",
            "author         529\n",
            "body           239\n",
            "byline         529\n",
            "title          229\n",
            "topic_id         0\n",
            "description      0\n",
            "narrative        0\n",
            "topic_title      0\n",
            "dtype: int64\n"
          ]
        }
      ],
      "source": [
        "# Checking for missing values\n",
        "print('Train data: ')\n",
        "print(train_df.isnull().sum())\n",
        "print('Test data: ')\n",
        "print(test_df.isnull().sum())"
      ]
    },
    {
      "cell_type": "markdown",
      "id": "b94374a4",
      "metadata": {
        "id": "b94374a4"
      },
      "source": [
        "### 2. Data Preprocessing\n",
        "The preprocessing phase was tailored to address the insights gained from the data exploration. Text fields were first cleansed of HTML tags, special characters, and numerics, and were then normalized to lowercase to standardize the input for vectorization. Missing values in non-critical textual fields were filled with empty strings, while entries missing critical fields like title were discarded to maintain data quality. To prepare the data for machine learning algorithms, the title and body were combined into a single text feature, which was then transformed into a TF-IDF matrix, capturing both the frequency and importance of terms within the dataset."
      ]
    },
    {
      "cell_type": "code",
      "execution_count": null,
      "id": "3867ec9c",
      "metadata": {
        "id": "3867ec9c"
      },
      "outputs": [],
      "source": [
        "# Handling missing values\n",
        "train_df.dropna(subset=['title'], inplace=True)\n",
        "test_df.dropna(subset=['title'], inplace=True)"
      ]
    },
    {
      "cell_type": "code",
      "execution_count": null,
      "id": "32c399fc",
      "metadata": {
        "id": "32c399fc"
      },
      "outputs": [],
      "source": [
        "# For textual fields, missing values are replaced with empty strings\n",
        "text_fields = ['author', 'body', 'byline', 'title']\n",
        "train_df[text_fields] = train_df[text_fields].fillna('')\n",
        "test_df[text_fields] = test_df[text_fields].fillna('')"
      ]
    },
    {
      "cell_type": "code",
      "execution_count": null,
      "id": "baebb4de",
      "metadata": {
        "id": "baebb4de"
      },
      "outputs": [],
      "source": [
        "# Combining text fields to create a comprehensive feature\n",
        "train_df['text'] = train_df['title'] + ' ' + train_df['body']\n",
        "test_df['text'] = test_df['title'] + ' ' + test_df['body']"
      ]
    },
    {
      "cell_type": "code",
      "execution_count": null,
      "id": "09971bda",
      "metadata": {
        "id": "09971bda"
      },
      "outputs": [],
      "source": [
        "def remove_html_tags(text):\n",
        "    # Remove HTML tags\n",
        "    text = re.sub(r'<[^>]+>', '', text)\n",
        "    # Remove special characters and numbers\n",
        "    text = re.sub(r'[^a-zA-Z\\s]', '', text, re.I|re.A)\n",
        "    # Lowercasing\n",
        "    text = text.lower()\n",
        "    # Remove extra spaces\n",
        "    text = text.strip()\n",
        "    return text\n",
        "\n",
        "train_df['text'] = train_df['text'].apply(remove_html_tags)\n",
        "test_df['text'] = test_df['text'].apply(remove_html_tags)"
      ]
    },
    {
      "cell_type": "code",
      "execution_count": null,
      "id": "d0f5cc33",
      "metadata": {
        "id": "d0f5cc33",
        "outputId": "9e09c678-e33e-4a2e-efbc-53dd34c0bdb1"
      },
      "outputs": [
        {
          "name": "stdout",
          "output_type": "stream",
          "text": [
            "(19758, 10000)\n"
          ]
        }
      ],
      "source": [
        "# Initialize the TF-IDF vectorizer\n",
        "tfidf_vectorizer = TfidfVectorizer(max_features=10000, ngram_range=(1, 2))\n",
        "\n",
        "# Fit and transform the combined text field\n",
        "X_tfidf = tfidf_vectorizer.fit_transform(train_df['text'])\n",
        "X_tfidf_test = tfidf_vectorizer.transform(test_df['text'])\n",
        "\n",
        "# Print the shape of the resulting TF-IDF matrix\n",
        "print(X_tfidf.shape)"
      ]
    },
    {
      "cell_type": "code",
      "execution_count": null,
      "id": "31f89bfb",
      "metadata": {
        "id": "31f89bfb",
        "outputId": "74ac887a-ca16-4675-9c0c-832e382ae8f3"
      },
      "outputs": [
        {
          "name": "stdout",
          "output_type": "stream",
          "text": [
            "Training set size: 15806\n",
            "Testing set size: 3952\n"
          ]
        }
      ],
      "source": [
        "y = train_df['judgement']\n",
        "\n",
        "# Splitting the dataset into training and testing sets\n",
        "X_train, X_test, y_train, y_test = train_test_split(X_tfidf, y, test_size=0.2, random_state=42)\n",
        "\n",
        "# Print the sizes of the splits\n",
        "print(f\"Training set size: {X_train.shape[0]}\")\n",
        "print(f\"Testing set size: {X_test.shape[0]}\")"
      ]
    },
    {
      "cell_type": "markdown",
      "id": "87ba0374",
      "metadata": {
        "id": "87ba0374"
      },
      "source": [
        "## Models\n",
        "### 1. Standard ML Baseline Model\n",
        "A Logistic Regression model was chosen as the baseline for its efficiency and effectiveness in handling high-dimensional data like TF-IDF vectors. This model was trained using TF-IDF vectors created from the text data, focusing on capturing both the frequency and importance of words across documents. The vectorization considered unigrams and bigrams with a feature limit of 10,000 to maintain computational efficiency. Logistic Regression, initialized with a fixed random state for reproducibility, served as a simple yet solid foundation for comparing more complex models. It achieved an accuracy of 87.19%, with detailed classification metrics indicating stronger performance on the majority class but weaker on the minority class, highlighting potential areas for improvement in handling class imbalance."
      ]
    },
    {
      "cell_type": "code",
      "execution_count": null,
      "id": "d471d16f",
      "metadata": {
        "id": "d471d16f"
      },
      "outputs": [],
      "source": [
        "# Initialize the Logistic Regression model\n",
        "lr_model = LogisticRegression(random_state=42)\n",
        "\n",
        "# Train the model on the training data\n",
        "lr_model.fit(X_train, y_train)\n",
        "\n",
        "# Make predictions on the test set\n",
        "lr_predictions = lr_model.predict(X_test)"
      ]
    },
    {
      "cell_type": "code",
      "execution_count": null,
      "id": "a931b48b",
      "metadata": {
        "id": "a931b48b",
        "outputId": "5c0c2658-2fda-4dbe-bc36-2788a4db4713"
      },
      "outputs": [
        {
          "name": "stdout",
          "output_type": "stream",
          "text": [
            "Logistic Regression Accuracy: 0.8719635627530364\n",
            "              precision    recall  f1-score   support\n",
            "\n",
            "           0       0.88      0.99      0.93      3345\n",
            "           1       0.79      0.23      0.35       607\n",
            "\n",
            "    accuracy                           0.87      3952\n",
            "   macro avg       0.83      0.61      0.64      3952\n",
            "weighted avg       0.86      0.87      0.84      3952\n",
            "\n"
          ]
        }
      ],
      "source": [
        "# Evaluate the model\n",
        "lr_accuracy = accuracy_score(y_test, lr_predictions)\n",
        "print(f'Logistic Regression Accuracy: {lr_accuracy}')\n",
        "print(classification_report(y_test, lr_predictions))"
      ]
    },
    {
      "cell_type": "code",
      "execution_count": null,
      "id": "8f0f5ad6",
      "metadata": {
        "id": "8f0f5ad6"
      },
      "outputs": [],
      "source": [
        "# Make predictions with the Logistic Regression model\n",
        "lr_predictions_prob = lr_model.predict_proba(X_tfidf_test)[:, 1]\n",
        "lr_binary_predictions = (lr_predictions_prob > 0.5).astype(int)  # Converting probabilities to 0 or 1\n",
        "\n",
        "# Create a DataFrame to save to CSV\n",
        "lr_submission_df = pd.DataFrame({\n",
        "    'id': test_df['doc_id'],\n",
        "    'judgement': lr_binary_predictions\n",
        "})\n",
        "\n",
        "# Save the DataFrame to a CSV file\n",
        "lr_submission_file_path = 'lr_predictions.csv'\n",
        "lr_submission_df.to_csv(lr_submission_file_path, index=False)"
      ]
    },
    {
      "cell_type": "markdown",
      "id": "c707be26",
      "metadata": {
        "id": "c707be26"
      },
      "source": [
        "### 2. 3Layer NN Baseline Model\n",
        "The three-layer neural network consisted of an input layer, a hidden layer (with varying neurons), and an output layer configured for binary classification. Experiments were conducted with different neuron counts in the hidden layer to identify the optimal configuration, which turned out to be 20 neurons after testing ranges between 10 to 50. This model was assessed across several training epochs to fine-tune performance, ultimately achieving a test accuracy similar to the Logistic Regression, suggesting that additional complexity over the baseline model did not yield significant gains."
      ]
    },
    {
      "cell_type": "code",
      "execution_count": null,
      "id": "4bb9351f",
      "metadata": {
        "id": "4bb9351f"
      },
      "outputs": [],
      "source": [
        "X_train_dense = X_train.toarray()\n",
        "X_test_dense = X_test.toarray()"
      ]
    },
    {
      "cell_type": "code",
      "execution_count": null,
      "id": "cb26daaf",
      "metadata": {
        "id": "cb26daaf"
      },
      "outputs": [],
      "source": [
        "def build_model(n_neurons):\n",
        "    model = Sequential([\n",
        "        Dense(n_neurons, input_dim=X_train_dense.shape[1], activation='relu'),\n",
        "        Dense(n_neurons // 2, activation='relu'),  # Half the number of neurons in the second layer\n",
        "        Dense(1, activation='sigmoid')  # Output layer for binary classification\n",
        "    ])\n",
        "    model.compile(optimizer='adam', loss='binary_crossentropy', metrics=['accuracy'])\n",
        "    return model"
      ]
    },
    {
      "cell_type": "code",
      "execution_count": null,
      "id": "b4a78585",
      "metadata": {
        "id": "b4a78585",
        "outputId": "27ecf3d1-16f8-46ba-c058-b24c5e401758"
      },
      "outputs": [
        {
          "name": "stderr",
          "output_type": "stream",
          "text": [
            "C:\\Users\\suvet\\anaconda3\\Lib\\site-packages\\keras\\src\\layers\\core\\dense.py:86: UserWarning: Do not pass an `input_shape`/`input_dim` argument to a layer. When using Sequential models, prefer using an `Input(shape)` object as the first layer in the model instead.\n",
            "  super().__init__(activity_regularizer=activity_regularizer, **kwargs)\n"
          ]
        }
      ],
      "source": [
        "neurons_range = [10, 20, 30, 40, 50]\n",
        "accuracies = []\n",
        "\n",
        "for n_neurons in neurons_range:\n",
        "    model = build_model(n_neurons)\n",
        "    model.fit(X_train_dense, y_train, epochs=10, batch_size=128, verbose=0)\n",
        "    _, accuracy = model.evaluate(X_test_dense, y_test, verbose=0)\n",
        "    accuracies.append(accuracy)"
      ]
    },
    {
      "cell_type": "code",
      "execution_count": null,
      "id": "8476b540",
      "metadata": {
        "id": "8476b540",
        "outputId": "c444359c-5286-4091-99e8-ede8ba1140f4"
      },
      "outputs": [
        {
          "data": {
            "image/png": "[encoded data removed]",
            "text/plain": [
              "<Figure size 1000x600 with 1 Axes>"
            ]
          },
          "metadata": {},
          "output_type": "display_data"
        }
      ],
      "source": [
        "plt.figure(figsize=(10, 6))\n",
        "plt.plot(neurons_range, accuracies, marker='o', linestyle='-', color='b')\n",
        "plt.title('Model Performance vs. Number of Neurons in Hidden Layer')\n",
        "plt.xlabel('Number of Neurons')\n",
        "plt.ylabel('Accuracy')\n",
        "plt.grid(True)\n",
        "plt.show()"
      ]
    },
    {
      "cell_type": "code",
      "execution_count": null,
      "id": "176de093",
      "metadata": {
        "id": "176de093",
        "outputId": "f5765445-475d-40be-ecf4-7c1af6a65901"
      },
      "outputs": [
        {
          "name": "stdout",
          "output_type": "stream",
          "text": [
            "Epoch 1/10\n",
            "\u001b[1m99/99\u001b[0m \u001b[32m━━━━━━━━━━━━━━━━━━━━\u001b[0m\u001b[37m\u001b[0m \u001b[1m17s\u001b[0m 7ms/step - accuracy: 0.8223 - loss: 0.5550 - val_accuracy: 0.8422 - val_loss: 0.4246\n",
            "Epoch 2/10\n",
            "\u001b[1m99/99\u001b[0m \u001b[32m━━━━━━━━━━━━━━━━━━━━\u001b[0m\u001b[37m\u001b[0m \u001b[1m0s\u001b[0m 4ms/step - accuracy: 0.8436 - loss: 0.4113 - val_accuracy: 0.8422 - val_loss: 0.3865\n",
            "Epoch 3/10\n",
            "\u001b[1m99/99\u001b[0m \u001b[32m━━━━━━━━━━━━━━━━━━━━\u001b[0m\u001b[37m\u001b[0m \u001b[1m0s\u001b[0m 4ms/step - accuracy: 0.8417 - loss: 0.3621 - val_accuracy: 0.8555 - val_loss: 0.3540\n",
            "Epoch 4/10\n",
            "\u001b[1m99/99\u001b[0m \u001b[32m━━━━━━━━━━━━━━━━━━━━\u001b[0m\u001b[37m\u001b[0m \u001b[1m0s\u001b[0m 4ms/step - accuracy: 0.8623 - loss: 0.3125 - val_accuracy: 0.8738 - val_loss: 0.3299\n",
            "Epoch 5/10\n",
            "\u001b[1m99/99\u001b[0m \u001b[32m━━━━━━━━━━━━━━━━━━━━\u001b[0m\u001b[37m\u001b[0m \u001b[1m0s\u001b[0m 5ms/step - accuracy: 0.8994 - loss: 0.2579 - val_accuracy: 0.8744 - val_loss: 0.3190\n",
            "Epoch 6/10\n",
            "\u001b[1m99/99\u001b[0m \u001b[32m━━━━━━━━━━━━━━━━━━━━\u001b[0m\u001b[37m\u001b[0m \u001b[1m0s\u001b[0m 4ms/step - accuracy: 0.9214 - loss: 0.2123 - val_accuracy: 0.8763 - val_loss: 0.3175\n",
            "Epoch 7/10\n",
            "\u001b[1m99/99\u001b[0m \u001b[32m━━━━━━━━━━━━━━━━━━━━\u001b[0m\u001b[37m\u001b[0m \u001b[1m1s\u001b[0m 5ms/step - accuracy: 0.9356 - loss: 0.1820 - val_accuracy: 0.8729 - val_loss: 0.3262\n",
            "Epoch 8/10\n",
            "\u001b[1m99/99\u001b[0m \u001b[32m━━━━━━━━━━━━━━━━━━━━\u001b[0m\u001b[37m\u001b[0m \u001b[1m0s\u001b[0m 4ms/step - accuracy: 0.9486 - loss: 0.1553 - val_accuracy: 0.8684 - val_loss: 0.3382\n",
            "Epoch 9/10\n",
            "\u001b[1m99/99\u001b[0m \u001b[32m━━━━━━━━━━━━━━━━━━━━\u001b[0m\u001b[37m\u001b[0m \u001b[1m0s\u001b[0m 4ms/step - accuracy: 0.9642 - loss: 0.1273 - val_accuracy: 0.8684 - val_loss: 0.3586\n",
            "Epoch 10/10\n",
            "\u001b[1m99/99\u001b[0m \u001b[32m━━━━━━━━━━━━━━━━━━━━\u001b[0m\u001b[37m\u001b[0m \u001b[1m0s\u001b[0m 4ms/step - accuracy: 0.9702 - loss: 0.1080 - val_accuracy: 0.8672 - val_loss: 0.3775\n",
            "Test Accuracy: 0.8823380470275879\n"
          ]
        }
      ],
      "source": [
        "# Using the previously defined build_model function with the identified sweet spot\n",
        "l3nn_model = build_model(10)\n",
        "\n",
        "# Training the model\n",
        "l3_nn = l3nn_model.fit(X_train_dense, y_train, epochs=10, batch_size=128, validation_split=0.2, verbose=1)"
      ]
    },
    {
      "cell_type": "code",
      "execution_count": null,
      "id": "ebebc917",
      "metadata": {
        "id": "ebebc917",
        "outputId": "4be69bc2-5a57-475f-b475-f8782beb3b32"
      },
      "outputs": [
        {
          "name": "stdout",
          "output_type": "stream",
          "text": [
            "\u001b[1m124/124\u001b[0m \u001b[32m━━━━━━━━━━━━━━━━━━━━\u001b[0m\u001b[37m\u001b[0m \u001b[1m0s\u001b[0m 2ms/step\n"
          ]
        }
      ],
      "source": [
        "# Evaluate the model on the test set\n",
        "l3nn_pred = l3nn_model.predict(X_test_dense)\n",
        "l3nn_binary_pred = (l3nn_pred > 0.5).astype(int)"
      ]
    },
    {
      "cell_type": "code",
      "execution_count": null,
      "id": "153fe2ed",
      "metadata": {
        "id": "153fe2ed",
        "outputId": "c6f27969-b4c9-4a0e-9825-873a6c13b89f"
      },
      "outputs": [
        {
          "name": "stdout",
          "output_type": "stream",
          "text": [
            "\u001b[1m153/153\u001b[0m \u001b[32m━━━━━━━━━━━━━━━━━━━━\u001b[0m\u001b[37m\u001b[0m \u001b[1m0s\u001b[0m 2ms/step\n"
          ]
        }
      ],
      "source": [
        "test_data_dense = X_tfidf_test.toarray()\n",
        "\n",
        "# Making predictions\n",
        "l3nn_predictions = l3nn_model.predict(test_data_dense)\n",
        "\n",
        "# Since the output layer uses a sigmoid activation function, the model returns probabilities\n",
        "# converting these probabilities to binary predictions, using a 0.5 threshold\n",
        "l3nn_binary_predictions = (l3nn_predictions > 0.5).astype(int)"
      ]
    },
    {
      "cell_type": "code",
      "execution_count": null,
      "id": "d730ce64",
      "metadata": {
        "id": "d730ce64"
      },
      "outputs": [],
      "source": [
        "l3nn_df = pd.DataFrame({\n",
        "    'id': test_df['doc_id'],\n",
        "    'judgement': l3nn_binary_predictions.flatten()  # Ensure the predictions are in the correct shape\n",
        "})\n",
        "\n",
        "# Resetting the index of the cleaned DataFrame\n",
        "l3nn_df.reset_index(drop=True, inplace=True)"
      ]
    },
    {
      "cell_type": "code",
      "execution_count": null,
      "id": "a5f1489a",
      "metadata": {
        "id": "a5f1489a"
      },
      "outputs": [],
      "source": [
        "# Saving the submission file\n",
        "submission_file_path = '3_layer_nn.csv'  # Adjust the path as needed\n",
        "l3nn_df.to_csv(submission_file_path, index=False)"
      ]
    },
    {
      "cell_type": "markdown",
      "id": "e3c20711",
      "metadata": {
        "id": "e3c20711"
      },
      "source": [
        "### 3. Deep NN Model\n",
        "The deep neural network model explored variations in both the number of layers and activation functions to optimize performance. Configurations ranged from 3 to 9 layers, testing different activation functions (ReLU, tanh, sigmoid). The experiments indicated that increasing the depth and switching activation functions can affect performance subtly, with sigmoid in deeper configurations providing the best results. This model's complexity was significantly higher than the baseline models, which helped in understanding how depth and activation choices impact the learning dynamics and classification outcomes on this specific dataset."
      ]
    },
    {
      "cell_type": "code",
      "execution_count": null,
      "id": "c3b90c9e",
      "metadata": {
        "id": "c3b90c9e"
      },
      "outputs": [],
      "source": [
        "def build_and_evaluate_model(n_layers=3, activation='relu', input_shape=X_train_dense.shape[1], epochs=10, batch_size=128):\n",
        "    dnn_model = Sequential()\n",
        "    dnn_model.add(Dense(10, activation=activation, input_shape=(input_shape,)))  # Input layer\n",
        "    for _ in range(n_layers - 2):  # Adding n_layers-2 hidden layers as we already have the input layer\n",
        "        dnn_model.add(Dense(10, activation=activation))\n",
        "    dnn_model.add(Dense(1, activation='sigmoid'))  # Output layer\n",
        "\n",
        "    dnn_model.compile(optimizer='adam', loss='binary_crossentropy', metrics=['accuracy'])\n",
        "    dnn = dnn_model.fit(X_train_dense, y_train, epochs=epochs, batch_size=batch_size, validation_split=0.2, verbose=0)\n",
        "\n",
        "    # Evaluate the model on the test set\n",
        "    _, test_accuracy = dnn_model.evaluate(X_test_dense, y_test, verbose=0)\n",
        "    return dnn, test_accuracy"
      ]
    },
    {
      "cell_type": "code",
      "execution_count": null,
      "id": "8b38f422",
      "metadata": {
        "id": "8b38f422",
        "outputId": "12a5df82-2a15-4743-de41-88561ffe4025"
      },
      "outputs": [
        {
          "name": "stderr",
          "output_type": "stream",
          "text": [
            "C:\\Users\\suvet\\anaconda3\\Lib\\site-packages\\keras\\src\\layers\\core\\dense.py:86: UserWarning: Do not pass an `input_shape`/`input_dim` argument to a layer. When using Sequential models, prefer using an `Input(shape)` object as the first layer in the model instead.\n",
            "  super().__init__(activity_regularizer=activity_regularizer, **kwargs)\n"
          ]
        }
      ],
      "source": [
        "# Testing different depths\n",
        "depths = [3, 5, 7, 9]\n",
        "depth_accuracies = []\n",
        "\n",
        "for depth in depths:\n",
        "    _, acc = build_and_evaluate_model(n_layers=depth)\n",
        "    depth_accuracies.append(acc)"
      ]
    },
    {
      "cell_type": "code",
      "execution_count": null,
      "id": "16d814af",
      "metadata": {
        "id": "16d814af"
      },
      "outputs": [],
      "source": [
        "activations = ['relu', 'tanh', 'sigmoid']\n",
        "activation_accuracies = []\n",
        "\n",
        "for activation in activations:\n",
        "    _, acc = build_and_evaluate_model(activation=activation)\n",
        "    activation_accuracies.append(acc)"
      ]
    },
    {
      "cell_type": "code",
      "execution_count": null,
      "id": "fca0c7ff",
      "metadata": {
        "id": "fca0c7ff",
        "outputId": "e81832a9-b81f-4030-d3fa-80ffea59e01d"
      },
      "outputs": [
        {
          "data": {
            "text/plain": [
              "[0.8737348318099976, 0.8732287287712097, 0.8762651681900024]"
            ]
          },
          "execution_count": 27,
          "metadata": {},
          "output_type": "execute_result"
        }
      ],
      "source": [
        "activation_accuracies"
      ]
    },
    {
      "cell_type": "code",
      "execution_count": null,
      "id": "46e394b2",
      "metadata": {
        "id": "46e394b2",
        "outputId": "7b62940c-fc4c-4ef8-886f-3e1f6e02372f"
      },
      "outputs": [
        {
          "data": {
            "image/png": "[encoded data removed]",
            "text/plain": [
              "<Figure size 2000x600 with 2 Axes>"
            ]
          },
          "metadata": {},
          "output_type": "display_data"
        }
      ],
      "source": [
        "# Create a figure and a set of subplots\n",
        "fig, (ax1, ax2) = plt.subplots(1, 2, figsize=(20, 6))  # 1 row, 2 columns\n",
        "\n",
        "# First subplot: Model Performance vs. Depth\n",
        "ax1.plot(depths, depth_accuracies, marker='o', linestyle='-', color='b')\n",
        "ax1.set_title('Model Performance vs. Depth')\n",
        "ax1.set_xlabel('Number of Layers')\n",
        "ax1.set_ylabel('Test Accuracy')\n",
        "ax1.set_xticks(depths)\n",
        "ax1.grid(True)\n",
        "\n",
        "# Second subplot: Model Performance by Activation Function\n",
        "ax2.bar(activations, activation_accuracies, color='skyblue')\n",
        "ax2.set_title('Model Performance by Activation Function')\n",
        "ax2.set_xlabel('Activation Function')\n",
        "ax2.set_ylabel('Test Accuracy')\n",
        "ax2.grid(True)\n",
        "\n",
        "# Display the plots\n",
        "plt.tight_layout()\n",
        "plt.show()"
      ]
    },
    {
      "cell_type": "markdown",
      "id": "074b12f6",
      "metadata": {
        "id": "074b12f6"
      },
      "source": [
        "Although the highest activation accuracy obtained was for sigmoid, relu is used for the hidden layers due to its advantages in deeper networks"
      ]
    },
    {
      "cell_type": "code",
      "execution_count": null,
      "id": "e3a2147d",
      "metadata": {
        "id": "e3a2147d",
        "outputId": "a1a21725-6fbf-4f5e-8412-0c65575fa0c2"
      },
      "outputs": [
        {
          "data": {
            "text/html": [
              "<pre style=\"white-space:pre;overflow-x:auto;line-height:normal;font-family:Menlo,'DejaVu Sans Mono',consolas,'Courier New',monospace\"><span style=\"font-weight: bold\">Model: \"sequential_13\"</span>\n",
              "</pre>\n"
            ],
            "text/plain": [
              "\u001b[1mModel: \"sequential_13\"\u001b[0m\n"
            ]
          },
          "metadata": {},
          "output_type": "display_data"
        },
        {
          "data": {
            "text/html": [
              "<pre style=\"white-space:pre;overflow-x:auto;line-height:normal;font-family:Menlo,'DejaVu Sans Mono',consolas,'Courier New',monospace\">┏━━━━━━━━━━━━━━━━━━━━━━━━━━━━━━━━━━━━━━┳━━━━━━━━━━━━━━━━━━━━━━━━━━━━━┳━━━━━━━━━━━━━━━━━┓\n",
              "┃<span style=\"font-weight: bold\"> Layer (type)                         </span>┃<span style=\"font-weight: bold\"> Output Shape                </span>┃<span style=\"font-weight: bold\">         Param # </span>┃\n",
              "┡━━━━━━━━━━━━━━━━━━━━━━━━━━━━━━━━━━━━━━╇━━━━━━━━━━━━━━━━━━━━━━━━━━━━━╇━━━━━━━━━━━━━━━━━┩\n",
              "│ dense_51 (<span style=\"color: #0087ff; text-decoration-color: #0087ff\">Dense</span>)                     │ (<span style=\"color: #00d7ff; text-decoration-color: #00d7ff\">None</span>, <span style=\"color: #00af00; text-decoration-color: #00af00\">10</span>)                  │         <span style=\"color: #00af00; text-decoration-color: #00af00\">100,010</span> │\n",
              "├──────────────────────────────────────┼─────────────────────────────┼─────────────────┤\n",
              "│ dense_52 (<span style=\"color: #0087ff; text-decoration-color: #0087ff\">Dense</span>)                     │ (<span style=\"color: #00d7ff; text-decoration-color: #00d7ff\">None</span>, <span style=\"color: #00af00; text-decoration-color: #00af00\">10</span>)                  │             <span style=\"color: #00af00; text-decoration-color: #00af00\">110</span> │\n",
              "├──────────────────────────────────────┼─────────────────────────────┼─────────────────┤\n",
              "│ dense_53 (<span style=\"color: #0087ff; text-decoration-color: #0087ff\">Dense</span>)                     │ (<span style=\"color: #00d7ff; text-decoration-color: #00d7ff\">None</span>, <span style=\"color: #00af00; text-decoration-color: #00af00\">10</span>)                  │             <span style=\"color: #00af00; text-decoration-color: #00af00\">110</span> │\n",
              "├──────────────────────────────────────┼─────────────────────────────┼─────────────────┤\n",
              "│ dense_54 (<span style=\"color: #0087ff; text-decoration-color: #0087ff\">Dense</span>)                     │ (<span style=\"color: #00d7ff; text-decoration-color: #00d7ff\">None</span>, <span style=\"color: #00af00; text-decoration-color: #00af00\">10</span>)                  │             <span style=\"color: #00af00; text-decoration-color: #00af00\">110</span> │\n",
              "├──────────────────────────────────────┼─────────────────────────────┼─────────────────┤\n",
              "│ dense_55 (<span style=\"color: #0087ff; text-decoration-color: #0087ff\">Dense</span>)                     │ (<span style=\"color: #00d7ff; text-decoration-color: #00d7ff\">None</span>, <span style=\"color: #00af00; text-decoration-color: #00af00\">1</span>)                   │              <span style=\"color: #00af00; text-decoration-color: #00af00\">11</span> │\n",
              "└──────────────────────────────────────┴─────────────────────────────┴─────────────────┘\n",
              "</pre>\n"
            ],
            "text/plain": [
              "┏━━━━━━━━━━━━━━━━━━━━━━━━━━━━━━━━━━━━━━┳━━━━━━━━━━━━━━━━━━━━━━━━━━━━━┳━━━━━━━━━━━━━━━━━┓\n",
              "┃\u001b[1m \u001b[0m\u001b[1mLayer (type)                        \u001b[0m\u001b[1m \u001b[0m┃\u001b[1m \u001b[0m\u001b[1mOutput Shape               \u001b[0m\u001b[1m \u001b[0m┃\u001b[1m \u001b[0m\u001b[1m        Param #\u001b[0m\u001b[1m \u001b[0m┃\n",
              "┡━━━━━━━━━━━━━━━━━━━━━━━━━━━━━━━━━━━━━━╇━━━━━━━━━━━━━━━━━━━━━━━━━━━━━╇━━━━━━━━━━━━━━━━━┩\n",
              "│ dense_51 (\u001b[38;5;33mDense\u001b[0m)                     │ (\u001b[38;5;45mNone\u001b[0m, \u001b[38;5;34m10\u001b[0m)                  │         \u001b[38;5;34m100,010\u001b[0m │\n",
              "├──────────────────────────────────────┼─────────────────────────────┼─────────────────┤\n",
              "│ dense_52 (\u001b[38;5;33mDense\u001b[0m)                     │ (\u001b[38;5;45mNone\u001b[0m, \u001b[38;5;34m10\u001b[0m)                  │             \u001b[38;5;34m110\u001b[0m │\n",
              "├──────────────────────────────────────┼─────────────────────────────┼─────────────────┤\n",
              "│ dense_53 (\u001b[38;5;33mDense\u001b[0m)                     │ (\u001b[38;5;45mNone\u001b[0m, \u001b[38;5;34m10\u001b[0m)                  │             \u001b[38;5;34m110\u001b[0m │\n",
              "├──────────────────────────────────────┼─────────────────────────────┼─────────────────┤\n",
              "│ dense_54 (\u001b[38;5;33mDense\u001b[0m)                     │ (\u001b[38;5;45mNone\u001b[0m, \u001b[38;5;34m10\u001b[0m)                  │             \u001b[38;5;34m110\u001b[0m │\n",
              "├──────────────────────────────────────┼─────────────────────────────┼─────────────────┤\n",
              "│ dense_55 (\u001b[38;5;33mDense\u001b[0m)                     │ (\u001b[38;5;45mNone\u001b[0m, \u001b[38;5;34m1\u001b[0m)                   │              \u001b[38;5;34m11\u001b[0m │\n",
              "└──────────────────────────────────────┴─────────────────────────────┴─────────────────┘\n"
            ]
          },
          "metadata": {},
          "output_type": "display_data"
        },
        {
          "data": {
            "text/html": [
              "<pre style=\"white-space:pre;overflow-x:auto;line-height:normal;font-family:Menlo,'DejaVu Sans Mono',consolas,'Courier New',monospace\"><span style=\"font-weight: bold\"> Total params: </span><span style=\"color: #00af00; text-decoration-color: #00af00\">100,351</span> (392.00 KB)\n",
              "</pre>\n"
            ],
            "text/plain": [
              "\u001b[1m Total params: \u001b[0m\u001b[38;5;34m100,351\u001b[0m (392.00 KB)\n"
            ]
          },
          "metadata": {},
          "output_type": "display_data"
        },
        {
          "data": {
            "text/html": [
              "<pre style=\"white-space:pre;overflow-x:auto;line-height:normal;font-family:Menlo,'DejaVu Sans Mono',consolas,'Courier New',monospace\"><span style=\"font-weight: bold\"> Trainable params: </span><span style=\"color: #00af00; text-decoration-color: #00af00\">100,351</span> (392.00 KB)\n",
              "</pre>\n"
            ],
            "text/plain": [
              "\u001b[1m Trainable params: \u001b[0m\u001b[38;5;34m100,351\u001b[0m (392.00 KB)\n"
            ]
          },
          "metadata": {},
          "output_type": "display_data"
        },
        {
          "data": {
            "text/html": [
              "<pre style=\"white-space:pre;overflow-x:auto;line-height:normal;font-family:Menlo,'DejaVu Sans Mono',consolas,'Courier New',monospace\"><span style=\"font-weight: bold\"> Non-trainable params: </span><span style=\"color: #00af00; text-decoration-color: #00af00\">0</span> (0.00 B)\n",
              "</pre>\n"
            ],
            "text/plain": [
              "\u001b[1m Non-trainable params: \u001b[0m\u001b[38;5;34m0\u001b[0m (0.00 B)\n"
            ]
          },
          "metadata": {},
          "output_type": "display_data"
        }
      ],
      "source": [
        "dnn_model = Sequential([\n",
        "    Dense(10, activation='relu', input_shape=(X_train_dense.shape[1],)),  # Input layer\n",
        "    Dense(10, activation='relu'),  # Hidden layer 1\n",
        "    Dense(10, activation='relu'),  # Hidden layer 2\n",
        "    Dense(10, activation='relu'),  # Hidden layer 3 (Considering input and output, total 5 layers)\n",
        "    Dense(1, activation='sigmoid')  # Output layer\n",
        "])\n",
        "\n",
        "dnn_model.compile(optimizer='adam', loss='binary_crossentropy', metrics=['accuracy'])\n",
        "dnn_model.summary()"
      ]
    },
    {
      "cell_type": "code",
      "execution_count": null,
      "id": "629ac21d",
      "metadata": {
        "id": "629ac21d",
        "outputId": "85da95bf-38b6-499d-9873-578d6c2d4c50"
      },
      "outputs": [
        {
          "name": "stdout",
          "output_type": "stream",
          "text": [
            "Epoch 1/10\n",
            "\u001b[1m99/99\u001b[0m \u001b[32m━━━━━━━━━━━━━━━━━━━━\u001b[0m\u001b[37m\u001b[0m \u001b[1m18s\u001b[0m 8ms/step - accuracy: 0.8162 - loss: 0.6023 - val_accuracy: 0.8422 - val_loss: 0.4329\n",
            "Epoch 2/10\n",
            "\u001b[1m99/99\u001b[0m \u001b[32m━━━━━━━━━━━━━━━━━━━━\u001b[0m\u001b[37m\u001b[0m \u001b[1m1s\u001b[0m 5ms/step - accuracy: 0.8470 - loss: 0.4193 - val_accuracy: 0.8422 - val_loss: 0.4114\n",
            "Epoch 3/10\n",
            "\u001b[1m99/99\u001b[0m \u001b[32m━━━━━━━━━━━━━━━━━━━━\u001b[0m\u001b[37m\u001b[0m \u001b[1m1s\u001b[0m 5ms/step - accuracy: 0.8440 - loss: 0.3935 - val_accuracy: 0.8672 - val_loss: 0.3540\n",
            "Epoch 4/10\n",
            "\u001b[1m99/99\u001b[0m \u001b[32m━━━━━━━━━━━━━━━━━━━━\u001b[0m\u001b[37m\u001b[0m \u001b[1m1s\u001b[0m 4ms/step - accuracy: 0.8818 - loss: 0.3049 - val_accuracy: 0.8732 - val_loss: 0.3244\n",
            "Epoch 5/10\n",
            "\u001b[1m99/99\u001b[0m \u001b[32m━━━━━━━━━━━━━━━━━━━━\u001b[0m\u001b[37m\u001b[0m \u001b[1m0s\u001b[0m 5ms/step - accuracy: 0.9193 - loss: 0.2237 - val_accuracy: 0.8703 - val_loss: 0.3315\n",
            "Epoch 6/10\n",
            "\u001b[1m99/99\u001b[0m \u001b[32m━━━━━━━━━━━━━━━━━━━━\u001b[0m\u001b[37m\u001b[0m \u001b[1m0s\u001b[0m 4ms/step - accuracy: 0.9421 - loss: 0.1637 - val_accuracy: 0.8621 - val_loss: 0.3548\n",
            "Epoch 7/10\n",
            "\u001b[1m99/99\u001b[0m \u001b[32m━━━━━━━━━━━━━━━━━━━━\u001b[0m\u001b[37m\u001b[0m \u001b[1m0s\u001b[0m 5ms/step - accuracy: 0.9636 - loss: 0.1240 - val_accuracy: 0.8574 - val_loss: 0.3964\n",
            "Epoch 8/10\n",
            "\u001b[1m99/99\u001b[0m \u001b[32m━━━━━━━━━━━━━━━━━━━━\u001b[0m\u001b[37m\u001b[0m \u001b[1m0s\u001b[0m 4ms/step - accuracy: 0.9769 - loss: 0.0913 - val_accuracy: 0.8555 - val_loss: 0.4418\n",
            "Epoch 9/10\n",
            "\u001b[1m99/99\u001b[0m \u001b[32m━━━━━━━━━━━━━━━━━━━━\u001b[0m\u001b[37m\u001b[0m \u001b[1m0s\u001b[0m 4ms/step - accuracy: 0.9856 - loss: 0.0637 - val_accuracy: 0.8425 - val_loss: 0.5005\n",
            "Epoch 10/10\n",
            "\u001b[1m99/99\u001b[0m \u001b[32m━━━━━━━━━━━━━━━━━━━━\u001b[0m\u001b[37m\u001b[0m \u001b[1m0s\u001b[0m 4ms/step - accuracy: 0.9908 - loss: 0.0470 - val_accuracy: 0.8520 - val_loss: 0.5435\n",
            "Optimized Model Test Accuracy: 0.876518189907074\n"
          ]
        }
      ],
      "source": [
        "# Training the model\n",
        "dnn_model.fit(X_train_dense, y_train, epochs=10, batch_size=128, validation_split=0.2, verbose=1)"
      ]
    },
    {
      "cell_type": "code",
      "execution_count": null,
      "id": "42b83bee",
      "metadata": {
        "id": "42b83bee",
        "outputId": "cfcf6683-88c8-427b-ccfc-55c98dd69573"
      },
      "outputs": [
        {
          "name": "stdout",
          "output_type": "stream",
          "text": [
            "\u001b[1m124/124\u001b[0m \u001b[32m━━━━━━━━━━━━━━━━━━━━\u001b[0m\u001b[37m\u001b[0m \u001b[1m0s\u001b[0m 2ms/step\n"
          ]
        }
      ],
      "source": [
        "# Evaluate the model on the test set\n",
        "dnn_pred = dnn_model.predict(X_test_dense)\n",
        "dnn_binary_pred = (dnn_pred > 0.5).astype(int).flatten()"
      ]
    },
    {
      "cell_type": "code",
      "execution_count": null,
      "id": "d8dbd423",
      "metadata": {
        "id": "d8dbd423",
        "outputId": "c69a5e5d-1dac-49ae-8161-a303aa4acda5"
      },
      "outputs": [
        {
          "name": "stdout",
          "output_type": "stream",
          "text": [
            "\u001b[1m153/153\u001b[0m \u001b[32m━━━━━━━━━━━━━━━━━━━━\u001b[0m\u001b[37m\u001b[0m \u001b[1m0s\u001b[0m 2ms/step\n"
          ]
        }
      ],
      "source": [
        "dnn_predictions_prob = dnn_model.predict(test_data_dense)\n",
        "dnn_predictions = (dnn_predictions_prob > 0.5).astype(int).flatten()"
      ]
    },
    {
      "cell_type": "code",
      "execution_count": null,
      "id": "eac9623f",
      "metadata": {
        "id": "eac9623f"
      },
      "outputs": [],
      "source": [
        "dnn_submission_df = pd.DataFrame({\n",
        "    'id': test_df['doc_id'],\n",
        "    'judgement': dnn_predictions\n",
        "})"
      ]
    },
    {
      "cell_type": "code",
      "execution_count": null,
      "id": "8fb258cd",
      "metadata": {
        "id": "8fb258cd"
      },
      "outputs": [],
      "source": [
        "# Resetting the index of the cleaned DataFrame\n",
        "dnn_submission_df.reset_index(drop=True, inplace=True)"
      ]
    },
    {
      "cell_type": "code",
      "execution_count": null,
      "id": "b1e44eaf",
      "metadata": {
        "id": "b1e44eaf"
      },
      "outputs": [],
      "source": [
        "submission_csv_path = 'DNN_predictions.csv'  # Adjust the path as needed\n",
        "dnn_submission_df.to_csv(submission_csv_path, index=False)"
      ]
    },
    {
      "cell_type": "markdown",
      "id": "094b396a",
      "metadata": {
        "id": "094b396a"
      },
      "source": [
        "### 4. Complex NN Model\n",
        "This project explored advanced neural network architectures, focusing on Recurrent Neural Networks (RNNs) like LSTM and GRU for text classification. These models were adjusted for different configurations to optimize their performance, specifically altering the number of layers and units. Our findings showed that while these complex models capture textual data effectively, they are sensitive to overfitting and require careful parameter tuning. Performance graphs demonstrated how adjustments in model parameters affected outcomes, underscoring the balance needed between complexity and generalization.\n",
        "#### LSTM"
      ]
    },
    {
      "cell_type": "code",
      "execution_count": null,
      "id": "48a01d38",
      "metadata": {
        "id": "48a01d38"
      },
      "outputs": [],
      "source": [
        "# Initialize the tokenizer with a specified maximum number of words\n",
        "max_words = 10000\n",
        "tokenizer = Tokenizer(num_words=max_words)\n",
        "tokenizer.fit_on_texts(train_df['text'])\n",
        "\n",
        "# Convert texts to sequences of integers\n",
        "X_seq = tokenizer.texts_to_sequences(train_df['text'])"
      ]
    },
    {
      "cell_type": "code",
      "execution_count": null,
      "id": "916f24d4",
      "metadata": {
        "id": "916f24d4",
        "outputId": "b9153812-8d0b-4203-c406-b65c917c7067"
      },
      "outputs": [
        {
          "data": {
            "image/png": "[encoded data removed]",
            "text/plain": [
              "<Figure size 640x480 with 1 Axes>"
            ]
          },
          "metadata": {},
          "output_type": "display_data"
        },
        {
          "name": "stdout",
          "output_type": "stream",
          "text": [
            "Average sequence length: 802.456220265209\n",
            "Median sequence length: 662.0\n",
            "Max sequence length: 5648\n"
          ]
        }
      ],
      "source": [
        "# Calculate the length of sequences\n",
        "sequence_lengths = [len(x) for x in X_seq]\n",
        "\n",
        "# Plot the distribution of sequence lengths\n",
        "plt.hist(sequence_lengths, bins=50)\n",
        "plt.xlabel('Sequence Length')\n",
        "plt.ylabel('Frequency')\n",
        "plt.title('Distribution of Sequence Lengths')\n",
        "plt.show()\n",
        "\n",
        "# Calculate statistics to help decide on maxlen\n",
        "average_length = np.mean(sequence_lengths)\n",
        "median_length = np.median(sequence_lengths)\n",
        "max_length = np.max(sequence_lengths)\n",
        "\n",
        "print(f\"Average sequence length: {average_length}\")\n",
        "print(f\"Median sequence length: {median_length}\")\n",
        "print(f\"Max sequence length: {max_length}\")"
      ]
    },
    {
      "cell_type": "code",
      "execution_count": null,
      "id": "982acd36",
      "metadata": {
        "id": "982acd36"
      },
      "outputs": [],
      "source": [
        "# Pad sequences to ensure uniform length\n",
        "X_padded = pad_sequences(X_seq, maxlen=1000)\n",
        "\n",
        "# splitting the data into training and testing sets\n",
        "X_train_seq, X_test_seq, y_train_seq, y_test_seq = train_test_split(X_padded, y, test_size=0.2, random_state=42)"
      ]
    },
    {
      "cell_type": "code",
      "execution_count": null,
      "id": "62a4ceb6",
      "metadata": {
        "id": "62a4ceb6",
        "outputId": "b90b1744-6417-4ccd-f350-0a1fd2062cd7"
      },
      "outputs": [
        {
          "name": "stderr",
          "output_type": "stream",
          "text": [
            "C:\\Users\\suvet\\anaconda3\\Lib\\site-packages\\keras\\src\\layers\\core\\embedding.py:86: UserWarning: Argument `input_length` is deprecated. Just remove it.\n",
            "  warnings.warn(\n"
          ]
        },
        {
          "data": {
            "text/html": [
              "<pre style=\"white-space:pre;overflow-x:auto;line-height:normal;font-family:Menlo,'DejaVu Sans Mono',consolas,'Courier New',monospace\"><span style=\"font-weight: bold\">Model: \"sequential_14\"</span>\n",
              "</pre>\n"
            ],
            "text/plain": [
              "\u001b[1mModel: \"sequential_14\"\u001b[0m\n"
            ]
          },
          "metadata": {},
          "output_type": "display_data"
        },
        {
          "data": {
            "text/html": [
              "<pre style=\"white-space:pre;overflow-x:auto;line-height:normal;font-family:Menlo,'DejaVu Sans Mono',consolas,'Courier New',monospace\">┏━━━━━━━━━━━━━━━━━━━━━━━━━━━━━━━━━━━━━━┳━━━━━━━━━━━━━━━━━━━━━━━━━━━━━┳━━━━━━━━━━━━━━━━━┓\n",
              "┃<span style=\"font-weight: bold\"> Layer (type)                         </span>┃<span style=\"font-weight: bold\"> Output Shape                </span>┃<span style=\"font-weight: bold\">         Param # </span>┃\n",
              "┡━━━━━━━━━━━━━━━━━━━━━━━━━━━━━━━━━━━━━━╇━━━━━━━━━━━━━━━━━━━━━━━━━━━━━╇━━━━━━━━━━━━━━━━━┩\n",
              "│ embedding (<span style=\"color: #0087ff; text-decoration-color: #0087ff\">Embedding</span>)                │ ?                           │     <span style=\"color: #00af00; text-decoration-color: #00af00\">0</span> (unbuilt) │\n",
              "├──────────────────────────────────────┼─────────────────────────────┼─────────────────┤\n",
              "│ spatial_dropout1d (<span style=\"color: #0087ff; text-decoration-color: #0087ff\">SpatialDropout1D</span>) │ ?                           │               <span style=\"color: #00af00; text-decoration-color: #00af00\">0</span> │\n",
              "├──────────────────────────────────────┼─────────────────────────────┼─────────────────┤\n",
              "│ lstm (<span style=\"color: #0087ff; text-decoration-color: #0087ff\">LSTM</span>)                          │ ?                           │     <span style=\"color: #00af00; text-decoration-color: #00af00\">0</span> (unbuilt) │\n",
              "├──────────────────────────────────────┼─────────────────────────────┼─────────────────┤\n",
              "│ dense_56 (<span style=\"color: #0087ff; text-decoration-color: #0087ff\">Dense</span>)                     │ ?                           │     <span style=\"color: #00af00; text-decoration-color: #00af00\">0</span> (unbuilt) │\n",
              "└──────────────────────────────────────┴─────────────────────────────┴─────────────────┘\n",
              "</pre>\n"
            ],
            "text/plain": [
              "┏━━━━━━━━━━━━━━━━━━━━━━━━━━━━━━━━━━━━━━┳━━━━━━━━━━━━━━━━━━━━━━━━━━━━━┳━━━━━━━━━━━━━━━━━┓\n",
              "┃\u001b[1m \u001b[0m\u001b[1mLayer (type)                        \u001b[0m\u001b[1m \u001b[0m┃\u001b[1m \u001b[0m\u001b[1mOutput Shape               \u001b[0m\u001b[1m \u001b[0m┃\u001b[1m \u001b[0m\u001b[1m        Param #\u001b[0m\u001b[1m \u001b[0m┃\n",
              "┡━━━━━━━━━━━━━━━━━━━━━━━━━━━━━━━━━━━━━━╇━━━━━━━━━━━━━━━━━━━━━━━━━━━━━╇━━━━━━━━━━━━━━━━━┩\n",
              "│ embedding (\u001b[38;5;33mEmbedding\u001b[0m)                │ ?                           │     \u001b[38;5;34m0\u001b[0m (unbuilt) │\n",
              "├──────────────────────────────────────┼─────────────────────────────┼─────────────────┤\n",
              "│ spatial_dropout1d (\u001b[38;5;33mSpatialDropout1D\u001b[0m) │ ?                           │               \u001b[38;5;34m0\u001b[0m │\n",
              "├──────────────────────────────────────┼─────────────────────────────┼─────────────────┤\n",
              "│ lstm (\u001b[38;5;33mLSTM\u001b[0m)                          │ ?                           │     \u001b[38;5;34m0\u001b[0m (unbuilt) │\n",
              "├──────────────────────────────────────┼─────────────────────────────┼─────────────────┤\n",
              "│ dense_56 (\u001b[38;5;33mDense\u001b[0m)                     │ ?                           │     \u001b[38;5;34m0\u001b[0m (unbuilt) │\n",
              "└──────────────────────────────────────┴─────────────────────────────┴─────────────────┘\n"
            ]
          },
          "metadata": {},
          "output_type": "display_data"
        },
        {
          "data": {
            "text/html": [
              "<pre style=\"white-space:pre;overflow-x:auto;line-height:normal;font-family:Menlo,'DejaVu Sans Mono',consolas,'Courier New',monospace\"><span style=\"font-weight: bold\"> Total params: </span><span style=\"color: #00af00; text-decoration-color: #00af00\">0</span> (0.00 B)\n",
              "</pre>\n"
            ],
            "text/plain": [
              "\u001b[1m Total params: \u001b[0m\u001b[38;5;34m0\u001b[0m (0.00 B)\n"
            ]
          },
          "metadata": {},
          "output_type": "display_data"
        },
        {
          "data": {
            "text/html": [
              "<pre style=\"white-space:pre;overflow-x:auto;line-height:normal;font-family:Menlo,'DejaVu Sans Mono',consolas,'Courier New',monospace\"><span style=\"font-weight: bold\"> Trainable params: </span><span style=\"color: #00af00; text-decoration-color: #00af00\">0</span> (0.00 B)\n",
              "</pre>\n"
            ],
            "text/plain": [
              "\u001b[1m Trainable params: \u001b[0m\u001b[38;5;34m0\u001b[0m (0.00 B)\n"
            ]
          },
          "metadata": {},
          "output_type": "display_data"
        },
        {
          "data": {
            "text/html": [
              "<pre style=\"white-space:pre;overflow-x:auto;line-height:normal;font-family:Menlo,'DejaVu Sans Mono',consolas,'Courier New',monospace\"><span style=\"font-weight: bold\"> Non-trainable params: </span><span style=\"color: #00af00; text-decoration-color: #00af00\">0</span> (0.00 B)\n",
              "</pre>\n"
            ],
            "text/plain": [
              "\u001b[1m Non-trainable params: \u001b[0m\u001b[38;5;34m0\u001b[0m (0.00 B)\n"
            ]
          },
          "metadata": {},
          "output_type": "display_data"
        }
      ],
      "source": [
        "# Model parameters\n",
        "embedding_dim = 100  # Size of the embedding vectors\n",
        "maxlen = 1000\n",
        "\n",
        "model = Sequential([\n",
        "    Embedding(input_dim=max_words, output_dim=embedding_dim, input_length=maxlen),\n",
        "    SpatialDropout1D(0.2),\n",
        "    LSTM(16, dropout=0.2, recurrent_dropout=0.2),\n",
        "    Dense(1, activation='sigmoid')\n",
        "])\n",
        "\n",
        "model.compile(optimizer='adam', loss='binary_crossentropy', metrics=['accuracy'])\n",
        "\n",
        "model.summary()"
      ]
    },
    {
      "cell_type": "code",
      "execution_count": null,
      "id": "c53cb9ff",
      "metadata": {
        "id": "c53cb9ff",
        "outputId": "54c7ffe2-636d-4406-9314-8a4383b8325f"
      },
      "outputs": [
        {
          "name": "stdout",
          "output_type": "stream",
          "text": [
            "Epoch 1/5\n",
            "\u001b[1m99/99\u001b[0m \u001b[32m━━━━━━━━━━━━━━━━━━━━\u001b[0m\u001b[37m\u001b[0m \u001b[1m48s\u001b[0m 452ms/step - accuracy: 0.8162 - loss: 0.5306 - val_accuracy: 0.8422 - val_loss: 0.4287\n",
            "Epoch 2/5\n",
            "\u001b[1m99/99\u001b[0m \u001b[32m━━━━━━━━━━━━━━━━━━━━\u001b[0m\u001b[37m\u001b[0m \u001b[1m47s\u001b[0m 472ms/step - accuracy: 0.8422 - loss: 0.4154 - val_accuracy: 0.8488 - val_loss: 0.4098\n",
            "Epoch 3/5\n",
            "\u001b[1m99/99\u001b[0m \u001b[32m━━━━━━━━━━━━━━━━━━━━\u001b[0m\u001b[37m\u001b[0m \u001b[1m46s\u001b[0m 463ms/step - accuracy: 0.8622 - loss: 0.3393 - val_accuracy: 0.8479 - val_loss: 0.4228\n",
            "Epoch 4/5\n",
            "\u001b[1m99/99\u001b[0m \u001b[32m━━━━━━━━━━━━━━━━━━━━\u001b[0m\u001b[37m\u001b[0m \u001b[1m49s\u001b[0m 494ms/step - accuracy: 0.8855 - loss: 0.2802 - val_accuracy: 0.8359 - val_loss: 0.4517\n",
            "Epoch 5/5\n",
            "\u001b[1m99/99\u001b[0m \u001b[32m━━━━━━━━━━━━━━━━━━━━\u001b[0m\u001b[37m\u001b[0m \u001b[1m58s\u001b[0m 587ms/step - accuracy: 0.9116 - loss: 0.2287 - val_accuracy: 0.8359 - val_loss: 0.4751\n"
          ]
        }
      ],
      "source": [
        "# Training the model\n",
        "lstm_model = model.fit(X_train_seq, y_train_seq, epochs=5, batch_size=128, validation_split=0.2, verbose=1)"
      ]
    },
    {
      "cell_type": "code",
      "execution_count": null,
      "id": "0ffee983",
      "metadata": {
        "id": "0ffee983",
        "outputId": "78e9c747-4b8e-4542-fd7b-83264c3dc063"
      },
      "outputs": [
        {
          "name": "stdout",
          "output_type": "stream",
          "text": [
            "\u001b[1m124/124\u001b[0m \u001b[32m━━━━━━━━━━━━━━━━━━━━\u001b[0m\u001b[37m\u001b[0m \u001b[1m9s\u001b[0m 73ms/step\n"
          ]
        }
      ],
      "source": [
        "# Evaluating the model on the test set\n",
        "lstm_pred = model.predict(X_test_seq)\n",
        "lstm_binary_pred = (lstm_pred > 0.5).astype(int)"
      ]
    },
    {
      "cell_type": "code",
      "execution_count": null,
      "id": "e8c17d95",
      "metadata": {
        "id": "e8c17d95",
        "outputId": "91aa6c84-f3b2-4f50-89c3-1efa45f81987"
      },
      "outputs": [
        {
          "name": "stdout",
          "output_type": "stream",
          "text": [
            "\u001b[1m153/153\u001b[0m \u001b[32m━━━━━━━━━━━━━━━━━━━━\u001b[0m\u001b[37m\u001b[0m \u001b[1m11s\u001b[0m 72ms/step\n",
            "Predictions saved to lstm_predictions.csv\n"
          ]
        }
      ],
      "source": [
        "# Preprocess the test data text as done with the training data\n",
        "test_seq = tokenizer.texts_to_sequences(test_df['text'])\n",
        "X_test_padded = pad_sequences(test_seq, maxlen=1000)  # Using the same maxlen as training\n",
        "\n",
        "# Make predictions\n",
        "predictions_prob = model.predict(X_test_padded)\n",
        "binary_predictions = (predictions_prob > 0.5).astype(int)  # Convert probabilities to 0 or 1\n",
        "\n",
        "# Create a DataFrame to save to CSV\n",
        "lstm_df = pd.DataFrame({\n",
        "    'id': test_df['doc_id'],\n",
        "    'judgement': binary_predictions.flatten()  # Flatten the array if necessary\n",
        "})\n",
        "\n",
        "# Save the DataFrame to a CSV file\n",
        "submission_file_path = 'lstm_predictions.csv'\n",
        "lstm_df.to_csv(submission_file_path, index=False)\n",
        "\n",
        "print(f\"Predictions saved to {submission_file_path}\")"
      ]
    },
    {
      "cell_type": "markdown",
      "id": "f445272e",
      "metadata": {
        "id": "f445272e"
      },
      "source": [
        "#### GRU Model"
      ]
    },
    {
      "cell_type": "code",
      "execution_count": null,
      "id": "3c77ce73",
      "metadata": {
        "id": "3c77ce73",
        "outputId": "aa38a4b6-ab4b-4548-88d7-3b24fe19c544"
      },
      "outputs": [
        {
          "name": "stderr",
          "output_type": "stream",
          "text": [
            "C:\\Users\\suvet\\anaconda3\\Lib\\site-packages\\keras\\src\\layers\\core\\embedding.py:86: UserWarning: Argument `input_length` is deprecated. Just remove it.\n",
            "  warnings.warn(\n"
          ]
        },
        {
          "data": {
            "text/html": [
              "<pre style=\"white-space:pre;overflow-x:auto;line-height:normal;font-family:Menlo,'DejaVu Sans Mono',consolas,'Courier New',monospace\"><span style=\"font-weight: bold\">Model: \"sequential_15\"</span>\n",
              "</pre>\n"
            ],
            "text/plain": [
              "\u001b[1mModel: \"sequential_15\"\u001b[0m\n"
            ]
          },
          "metadata": {},
          "output_type": "display_data"
        },
        {
          "data": {
            "text/html": [
              "<pre style=\"white-space:pre;overflow-x:auto;line-height:normal;font-family:Menlo,'DejaVu Sans Mono',consolas,'Courier New',monospace\">┏━━━━━━━━━━━━━━━━━━━━━━━━━━━━━━━━━━━━━━┳━━━━━━━━━━━━━━━━━━━━━━━━━━━━━┳━━━━━━━━━━━━━━━━━┓\n",
              "┃<span style=\"font-weight: bold\"> Layer (type)                         </span>┃<span style=\"font-weight: bold\"> Output Shape                </span>┃<span style=\"font-weight: bold\">         Param # </span>┃\n",
              "┡━━━━━━━━━━━━━━━━━━━━━━━━━━━━━━━━━━━━━━╇━━━━━━━━━━━━━━━━━━━━━━━━━━━━━╇━━━━━━━━━━━━━━━━━┩\n",
              "│ embedding_1 (<span style=\"color: #0087ff; text-decoration-color: #0087ff\">Embedding</span>)              │ ?                           │     <span style=\"color: #00af00; text-decoration-color: #00af00\">0</span> (unbuilt) │\n",
              "├──────────────────────────────────────┼─────────────────────────────┼─────────────────┤\n",
              "│ spatial_dropout1d_1                  │ ?                           │               <span style=\"color: #00af00; text-decoration-color: #00af00\">0</span> │\n",
              "│ (<span style=\"color: #0087ff; text-decoration-color: #0087ff\">SpatialDropout1D</span>)                   │                             │                 │\n",
              "├──────────────────────────────────────┼─────────────────────────────┼─────────────────┤\n",
              "│ gru (<span style=\"color: #0087ff; text-decoration-color: #0087ff\">GRU</span>)                            │ ?                           │     <span style=\"color: #00af00; text-decoration-color: #00af00\">0</span> (unbuilt) │\n",
              "├──────────────────────────────────────┼─────────────────────────────┼─────────────────┤\n",
              "│ dense_57 (<span style=\"color: #0087ff; text-decoration-color: #0087ff\">Dense</span>)                     │ ?                           │     <span style=\"color: #00af00; text-decoration-color: #00af00\">0</span> (unbuilt) │\n",
              "└──────────────────────────────────────┴─────────────────────────────┴─────────────────┘\n",
              "</pre>\n"
            ],
            "text/plain": [
              "┏━━━━━━━━━━━━━━━━━━━━━━━━━━━━━━━━━━━━━━┳━━━━━━━━━━━━━━━━━━━━━━━━━━━━━┳━━━━━━━━━━━━━━━━━┓\n",
              "┃\u001b[1m \u001b[0m\u001b[1mLayer (type)                        \u001b[0m\u001b[1m \u001b[0m┃\u001b[1m \u001b[0m\u001b[1mOutput Shape               \u001b[0m\u001b[1m \u001b[0m┃\u001b[1m \u001b[0m\u001b[1m        Param #\u001b[0m\u001b[1m \u001b[0m┃\n",
              "┡━━━━━━━━━━━━━━━━━━━━━━━━━━━━━━━━━━━━━━╇━━━━━━━━━━━━━━━━━━━━━━━━━━━━━╇━━━━━━━━━━━━━━━━━┩\n",
              "│ embedding_1 (\u001b[38;5;33mEmbedding\u001b[0m)              │ ?                           │     \u001b[38;5;34m0\u001b[0m (unbuilt) │\n",
              "├──────────────────────────────────────┼─────────────────────────────┼─────────────────┤\n",
              "│ spatial_dropout1d_1                  │ ?                           │               \u001b[38;5;34m0\u001b[0m │\n",
              "│ (\u001b[38;5;33mSpatialDropout1D\u001b[0m)                   │                             │                 │\n",
              "├──────────────────────────────────────┼─────────────────────────────┼─────────────────┤\n",
              "│ gru (\u001b[38;5;33mGRU\u001b[0m)                            │ ?                           │     \u001b[38;5;34m0\u001b[0m (unbuilt) │\n",
              "├──────────────────────────────────────┼─────────────────────────────┼─────────────────┤\n",
              "│ dense_57 (\u001b[38;5;33mDense\u001b[0m)                     │ ?                           │     \u001b[38;5;34m0\u001b[0m (unbuilt) │\n",
              "└──────────────────────────────────────┴─────────────────────────────┴─────────────────┘\n"
            ]
          },
          "metadata": {},
          "output_type": "display_data"
        },
        {
          "data": {
            "text/html": [
              "<pre style=\"white-space:pre;overflow-x:auto;line-height:normal;font-family:Menlo,'DejaVu Sans Mono',consolas,'Courier New',monospace\"><span style=\"font-weight: bold\"> Total params: </span><span style=\"color: #00af00; text-decoration-color: #00af00\">0</span> (0.00 B)\n",
              "</pre>\n"
            ],
            "text/plain": [
              "\u001b[1m Total params: \u001b[0m\u001b[38;5;34m0\u001b[0m (0.00 B)\n"
            ]
          },
          "metadata": {},
          "output_type": "display_data"
        },
        {
          "data": {
            "text/html": [
              "<pre style=\"white-space:pre;overflow-x:auto;line-height:normal;font-family:Menlo,'DejaVu Sans Mono',consolas,'Courier New',monospace\"><span style=\"font-weight: bold\"> Trainable params: </span><span style=\"color: #00af00; text-decoration-color: #00af00\">0</span> (0.00 B)\n",
              "</pre>\n"
            ],
            "text/plain": [
              "\u001b[1m Trainable params: \u001b[0m\u001b[38;5;34m0\u001b[0m (0.00 B)\n"
            ]
          },
          "metadata": {},
          "output_type": "display_data"
        },
        {
          "data": {
            "text/html": [
              "<pre style=\"white-space:pre;overflow-x:auto;line-height:normal;font-family:Menlo,'DejaVu Sans Mono',consolas,'Courier New',monospace\"><span style=\"font-weight: bold\"> Non-trainable params: </span><span style=\"color: #00af00; text-decoration-color: #00af00\">0</span> (0.00 B)\n",
              "</pre>\n"
            ],
            "text/plain": [
              "\u001b[1m Non-trainable params: \u001b[0m\u001b[38;5;34m0\u001b[0m (0.00 B)\n"
            ]
          },
          "metadata": {},
          "output_type": "display_data"
        }
      ],
      "source": [
        "model_gru = Sequential([\n",
        "    Embedding(input_dim=max_words, output_dim=embedding_dim, input_length=maxlen),\n",
        "    SpatialDropout1D(0.2),\n",
        "    GRU(16, dropout=0.2, recurrent_dropout=0.2),\n",
        "    Dense(1, activation='sigmoid')\n",
        "])\n",
        "\n",
        "model_gru.compile(optimizer='adam', loss='binary_crossentropy', metrics=['accuracy'])\n",
        "\n",
        "model_gru.summary()"
      ]
    },
    {
      "cell_type": "code",
      "execution_count": null,
      "id": "69c229ac",
      "metadata": {
        "id": "69c229ac",
        "outputId": "6c16a8f2-bebe-40be-84c5-7d800fb584fa"
      },
      "outputs": [
        {
          "name": "stdout",
          "output_type": "stream",
          "text": [
            "Epoch 1/5\n",
            "\u001b[1m99/99\u001b[0m \u001b[32m━━━━━━━━━━━━━━━━━━━━\u001b[0m\u001b[37m\u001b[0m \u001b[1m49s\u001b[0m 473ms/step - accuracy: 0.8069 - loss: nan - val_accuracy: 0.8422 - val_loss: nan\n",
            "Epoch 2/5\n",
            "\u001b[1m99/99\u001b[0m \u001b[32m━━━━━━━━━━━━━━━━━━━━\u001b[0m\u001b[37m\u001b[0m \u001b[1m50s\u001b[0m 504ms/step - accuracy: 0.8398 - loss: nan - val_accuracy: 0.8422 - val_loss: nan\n",
            "Epoch 3/5\n",
            "\u001b[1m99/99\u001b[0m \u001b[32m━━━━━━━━━━━━━━━━━━━━\u001b[0m\u001b[37m\u001b[0m \u001b[1m54s\u001b[0m 548ms/step - accuracy: 0.8448 - loss: nan - val_accuracy: 0.8422 - val_loss: nan\n",
            "Epoch 4/5\n",
            "\u001b[1m99/99\u001b[0m \u001b[32m━━━━━━━━━━━━━━━━━━━━\u001b[0m\u001b[37m\u001b[0m \u001b[1m53s\u001b[0m 531ms/step - accuracy: 0.8387 - loss: nan - val_accuracy: 0.8422 - val_loss: nan\n",
            "Epoch 5/5\n",
            "\u001b[1m99/99\u001b[0m \u001b[32m━━━━━━━━━━━━━━━━━━━━\u001b[0m\u001b[37m\u001b[0m \u001b[1m52s\u001b[0m 530ms/step - accuracy: 0.8354 - loss: nan - val_accuracy: 0.8422 - val_loss: nan\n"
          ]
        }
      ],
      "source": [
        "gru_model = model_gru.fit(X_train_seq, y_train_seq, epochs=5, batch_size=128, validation_split=0.2, verbose=1)"
      ]
    },
    {
      "cell_type": "code",
      "execution_count": null,
      "id": "15b1522c",
      "metadata": {
        "id": "15b1522c",
        "outputId": "b5e49549-fef0-4486-fa11-eee993171465"
      },
      "outputs": [
        {
          "name": "stdout",
          "output_type": "stream",
          "text": [
            "\u001b[1m124/124\u001b[0m \u001b[32m━━━━━━━━━━━━━━━━━━━━\u001b[0m\u001b[37m\u001b[0m \u001b[1m10s\u001b[0m 80ms/step\n"
          ]
        }
      ],
      "source": [
        "# Evaluating the model on the test set\n",
        "gru_pred = model_gru.predict(X_test_seq)\n",
        "gru_binary_pred = (gru_pred > 0.5).astype(int)"
      ]
    },
    {
      "cell_type": "code",
      "execution_count": null,
      "id": "7d052025",
      "metadata": {
        "id": "7d052025",
        "outputId": "0069cc6e-4302-42fa-f9b2-3ac6e80dbdac"
      },
      "outputs": [
        {
          "name": "stdout",
          "output_type": "stream",
          "text": [
            "\u001b[1m153/153\u001b[0m \u001b[32m━━━━━━━━━━━━━━━━━━━━\u001b[0m\u001b[37m\u001b[0m \u001b[1m13s\u001b[0m 86ms/step\n",
            "Predictions saved to gru_predictions.csv\n"
          ]
        }
      ],
      "source": [
        "# Make predictions\n",
        "gru_predictions_prob = model_gru.predict(X_test_padded)\n",
        "gru_binary_predictions = (gru_predictions_prob > 0.5).astype(int)  # Convert probabilities to 0 or 1\n",
        "\n",
        "# Create a DataFrame to save to CSV\n",
        "gru_df = pd.DataFrame({\n",
        "    'id': test_df['doc_id'],\n",
        "    'judgement': gru_binary_predictions.flatten()  # Flatten the array if necessary\n",
        "})\n",
        "\n",
        "# Save the DataFrame to a CSV file\n",
        "submission_file_path = 'gru_predictions.csv'\n",
        "gru_df.to_csv(submission_file_path, index=False)\n",
        "\n",
        "print(f\"Predictions saved to {submission_file_path}\")"
      ]
    },
    {
      "cell_type": "markdown",
      "id": "a9e27804",
      "metadata": {
        "id": "a9e27804"
      },
      "source": [
        "### Exploring different parameters"
      ]
    },
    {
      "cell_type": "raw",
      "id": "9d3e85f6",
      "metadata": {
        "id": "9d3e85f6"
      },
      "source": [
        "lstm_units = [16, 32, 64, 128]\n",
        "gru_units = [16, 32, 64, 128]\n",
        "dropout_rates = [0.1, 0.2, 0.5]\n",
        "\n",
        "# Track performance\n",
        "performance = []\n",
        "\n",
        "for units in lstm_units:\n",
        "    for rate in dropout_rates:\n",
        "        lstm_model = build_lstm_model(units, rate, rate)  # Using same rate for dropout and recurrent_dropout\n",
        "        history = lstm_model.fit(X_train_seq, y_train, epochs=5, batch_size=128, validation_split=0.2, verbose=0)\n",
        "        test_loss, test_accuracy = lstm_model.evaluate(X_test_seq, y_test, verbose=0)\n",
        "        performance.append(('LSTM', units, rate, test_accuracy))\n",
        "\n",
        "for units in gru_units:\n",
        "    for rate in dropout_rates:\n",
        "        gru_model = build_gru_model(units, rate, rate)\n",
        "        history = gru_model.fit(X_train_seq, y_train, epochs=5, batch_size=128, validation_split=0.2, verbose=0)\n",
        "        test_loss, test_accuracy = gru_model.evaluate(X_test_seq, y_test, verbose=0)\n",
        "        performance.append(('GRU', units, rate, test_accuracy))\n",
        "\n",
        "# Print performance\n",
        "for model_type, units, rate, accuracy in performance:\n",
        "    print(f\"Model: {model_type}, Units: {units}, Dropout Rate: {rate}, Test Accuracy: {accuracy}\")"
      ]
    },
    {
      "cell_type": "markdown",
      "id": "ee0cc3e9",
      "metadata": {
        "id": "ee0cc3e9"
      },
      "source": [
        "The results showed that both models perform well with 128 units, but the performance on kaggle test data did not show signifant difference in changing the parameters. Hence used the simple one to avoid complexity (16)."
      ]
    },
    {
      "cell_type": "markdown",
      "id": "cf658845",
      "metadata": {
        "id": "cf658845"
      },
      "source": [
        "### Results and Analysis\n",
        "\n",
        "#### Overview of Model Performances\n",
        "Throughout the Relevance Classification project, several models were tested ranging from a simple Logistic Regression to more complex neural network architectures such as LSTM and GRU. The table below summarizes their performance in training and testing phases, along with Kaggle competition scores.\n",
        "\n",
        "| Model                  | Training Accuracy | Testing Accuracy | Precision | Recall | F1 Score | Kaggle Score |\n",
        "|------------------------|-------------------|------------------|-----------|--------|----------|--------------|\n",
        "| Logistic Regression    | 87.19%            | 87.19%           | 83.22%    | 60.81% | 64.09%   | 0.87278      |\n",
        "| 3-Layer NN             | 97.02%            | 88.23%           | 78.34%    | 72.42% | 74.81%   | 0.83756      |\n",
        "| Deep NN                | 99.08%            | 87.65%           | 76.52%    | 73.42% | 74.81%   | 0.86349      |\n",
        "| LSTM                   | 91.16%            | 83.63%           | 65.48%    | 58.91% | 60.54%   | 0.84220      |\n",
        "| GRU                    | 83.54%            | 84.64%           | 42.32%    | 50.00% | 45.84%   | 0.87305      |\n",
        "\n",
        "*Note: Training accuracy reflects the highest observed during training with validation. Testing accuracy and other metrics are calculated on a separate test set.*\n",
        "\n",
        "#### Key Findings and Learnings\n",
        "The project revealed several insights:\n",
        "1. **Handling Imbalance**: Logistic Regression provided a strong baseline with reasonable accuracy and a high Kaggle score, indicating its robustness despite its simplicity. However, it struggled with the minority class, as evidenced by lower recall rates.\n",
        "2. **Complexity vs. Performance**: While the 3-Layer and Deep Neural Networks showed promise with high training accuracies, they did not significantly outperform the Logistic Regression on the Kaggle platform. This suggests that additional complexity did not translate into practical performance gains, possibly due to overfitting.\n",
        "3. **RNN Limitations**: The LSTM and GRU models were expected to perform well given their capability to process sequences and capture temporal dependencies. Although they excelled in handling the sequential nature of text, their real-world applicability was limited by higher computational costs and difficulty in tuning, which was reflected in their lower Kaggle scores.\n",
        "\n",
        "#### Summary\n",
        "Among the models tested, the **Logistic Regression** stands out as the most effective for this task due to its high performance, simplicity, and excellent generalization as seen in the Kaggle scores. It strikes a good balance between accuracy and complexity, making it suitable for quick deployments and interpretations. While the GRU model scored highest on Kaggle, several factors suggest it might not be the most effective model for practical applications. Firstly, it underperforms in essential metrics like precision, recall, and F1 score compared to simpler models, indicating issues with generalization across different data aspects. Secondly, GRUs are computationally expensive and complex, making them challenging to tune and prone to overfitting, which is evident from their lower performance in local testing despite high Kaggle scores. Additionally, the complexity of GRUs complicates their deployment and scalability in real-world applications. In contrast, simpler models like Logistic Regression offer easier interpretability, quicker deployment, and sufficient performance, making them more suitable for practical uses where robustness and efficiency are crucial. Hence, while GRU models are powerful for capturing temporal patterns in text, their practical effectiveness is limited by these factors.\n",
        "\n",
        "#### Recommendations for Future Work\n",
        "For future enhancements, the following strategies could be explored:\n",
        "- **Ensemble Techniques**: Combining the predictions of multiple models could leverage their individual strengths and improve overall accuracy.\n",
        "- **Advanced Text Processing**: Techniques such as word embeddings or more complex text augmentations could help capture deeper semantic meanings.\n",
        "- **Hyperparameter Optimization**: Systematic tuning of parameters, especially for neural network architectures, could yield better results.\n",
        "\n",
        "In conclusion, while complex models hold promise, especially for nuanced tasks, their deployment should be balanced against the practical benefits they offer. Exploring ensemble methods and advancing text processing techniques could further enhance model performance in future iterations of this project."
      ]
    },
    {
      "cell_type": "markdown",
      "id": "669e4a39",
      "metadata": {
        "id": "669e4a39"
      },
      "source": [
        "### References:\n",
        "1. S. Hochreiter and J. Schmidhuber, \"Long Short-Term Memory,\" in Neural Computation, vol. 9, no. 8, pp. 1735-1780, 15 Nov. 1997, doi: 10.1162/neco.1997.9.8.1735.\n",
        "\n",
        "\n",
        "2. Cho, K., Merrienboer, van, Gulcehre, C., Bahdanau, D., Bougares, F., Schwenk, H. and Bengio, Y. (2014). Learning Phrase Representations using RNN Encoder-Decoder for Statistical Machine Translation. [online] arXiv.org. Available at: https://arxiv.org/abs/1406.1078.\n",
        "\n",
        "\n",
        "3. Bishop, C.M., 1995. Neural networks for pattern recognition. Oxford university press."
      ]
    }
  ],
  "metadata": {
    "kernelspec": {
      "display_name": "Python 3 (ipykernel)",
      "language": "python",
      "name": "python3"
    },
    "language_info": {
      "codemirror_mode": {
        "name": "ipython",
        "version": 3
      },
      "file_extension": ".py",
      "mimetype": "text/x-python",
      "name": "python",
      "nbconvert_exporter": "python",
      "pygments_lexer": "ipython3",
      "version": "3.11.5"
    },
    "colab": {
      "provenance": []
    }
  },
  "nbformat": 4,
  "nbformat_minor": 5
}