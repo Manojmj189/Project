{
 "cells": [
  {
   "cell_type": "code",
   "execution_count": 29,
   "id": "1a1d4fe5",
   "metadata": {},
   "outputs": [],
   "source": [
    "import pandas as pd"
   ]
  },
  {
   "cell_type": "code",
   "execution_count": 30,
   "id": "b8b6cb0c",
   "metadata": {},
   "outputs": [],
   "source": [
    "file_path = 'ML2.csv'"
   ]
  },
  {
   "cell_type": "code",
   "execution_count": 31,
   "id": "0477bdfc",
   "metadata": {
    "scrolled": true
   },
   "outputs": [],
   "source": [
    "df = pd.read_csv(file_path)"
   ]
  },
  {
   "cell_type": "code",
   "execution_count": 32,
   "id": "0e9f67b2",
   "metadata": {},
   "outputs": [
    {
     "name": "stdout",
     "output_type": "stream",
     "text": [
      "   Number                                              title  \\\n",
      "0       1                       Put Your Head On My Shoulder   \n",
      "1       2  Whatever Will Be Will Be (Que Sera Sera) (with...   \n",
      "2       3                           Everybody Loves Somebody   \n",
      "3       4        Take Good Care Of My Baby - 1990 Remastered   \n",
      "4       5                                 A Teenager In Love   \n",
      "\n",
      "                artist        top genre  year  bpm  nrgy  dnce  dB  live  val  \\\n",
      "0            Paul Anka  adult standards  2000  116    34    55  -9    10   47   \n",
      "1            Doris Day  adult standards  1948  177    34    42 -11    72   78   \n",
      "2          Dean Martin  adult standards  2013   81    49    26  -9    34   40   \n",
      "3            Bobby Vee  adult standards  2011   82    43    49 -12    12   66   \n",
      "4  Dion & The Belmonts  adult standards  1959   79    38    56  -9    13   62   \n",
      "\n",
      "   dur  acous  spch  pop  \n",
      "0  155     75     3   72  \n",
      "1  123     86     4   62  \n",
      "2  162     81     4   61  \n",
      "3  151     70     6   60  \n",
      "4  158     67     3   60  \n"
     ]
    }
   ],
   "source": [
    "print(df.head())\n"
   ]
  },
  {
   "cell_type": "code",
   "execution_count": 33,
   "id": "d1ca183c",
   "metadata": {},
   "outputs": [],
   "source": [
    "from sklearn.preprocessing import LabelEncoder, StandardScaler"
   ]
  },
  {
   "cell_type": "markdown",
   "id": "020e5fc3",
   "metadata": {},
   "source": [
    "# Loading the data set"
   ]
  },
  {
   "cell_type": "code",
   "execution_count": 49,
   "id": "ae0ca038",
   "metadata": {},
   "outputs": [],
   "source": [
    "data = {\n",
    "    'Number': [1, 2, 3, 4, 5, 6, 7, 8, 9, 10, 11, 12, 13, 14, 15, 16, 17, 18, 19, 20, \n",
    "               21, 22, 23, 24, 25, 26, 27, 28, 29, 30, 31, 32, 33, 34, 35, 36, 37, \n",
    "               38, 39, 40, 41, 42, 43, 44, 45, 46, 47, 48, 49, 50, 51, 52, 53, 54, \n",
    "               55, 56, 57, 58, 59, 60, 61, 62, 63, 64, 65, 66, 67, 68, 69, 70, 71, 72, 73],\n",
    "    'title': ['Put Your Head On My Shoulder', 'Whatever Will Be Will Be (Que Sera Sera) (with Frank DeVol & His Orchestra) - Single Version', 'Everybody Loves Somebody', 'Take Good Care Of My Baby - 1990 Remastered', 'A Teenager In Love', 'She\\'s Got You - Single Version', 'Puppy Love - Remix', 'Travelin\\' Man - Remastered', 'Mr. Blue', 'Itsy Bitsy Teenie Yellow Polka Dot Bikini', 'Lonesome Town - 1990 Digital Remaster', '16 Candles', 'If I Give My Heart to You (with The Mellomen) - 78rpm Version', 'Sh-Boom - Single Version', 'Sh-Boom (Life Could Be A Dream)', 'It\\'s All In The Game', 'You Mean Everything to Me', 'April Love', 'Surf City - Remastered 1990/Stereo Remix', 'I\\'ve Grown Accustomed To Her Face - Remastered/1998', 'Rubber Ball', 'Chicago - Remastered', 'But Not For Me', 'In The Still Of The Night', 'Only Because', 'Che La Luna', 'My Happiness', 'Brown Eyed Handsome Man', 'Poetry In Motion', 'To The Aisle', 'Tulips From Amsterdam', 'If I Give My Heart To You', 'The Lady Is A Tramp', 'Let\\'s Fall in Love', 'Runaround', 'A Thousand Miles Away', 'Walkinâ€™ My Baby Back Home', 'Outside My Window', 'I Love My Girl', 'Eddie My Love', 'Let There Be You', 'Raindrops', 'Unchained Melody', 'It All Depends on You', 'A Tear Fell', 'Ain\\'t Got No Home', 'Carolina in the Morning', 'Gigi', 'What Do You Want', 'You Belong to My Heart', 'Someone Elses Roses', 'More', 'Do You Wanna Dance', 'My September Love', 'Seven Days', 'Marianne', 'Sea Of Love', 'No Other Love', 'Hot Diggity', 'Kisses Sweeter Than Wine', 'Are You Really Mine', 'Butterfingers', 'Come Softly To Me', 'Ninety-Nine Ways', 'Only Sixteen - 2004 Remaster', 'Little Things Means A Lot', 'Drinks On The House', 'Pachuko Hop', 'Collette', 'Happy Days And Lonely Nights', 'Stairway Of Love', 'I\\'ve Waited So Long', 'Held for Questioning'],\n",
    "    'artist': ['Paul Anka', 'Doris Day', 'Dean Martin', 'Bobby Vee', 'Dion & The Belmonts', 'Patsy Cline', 'Paul Anka', 'Ricky Nelson', 'The Fleetwoods', 'Brian Hyland', 'Ricky Nelson', 'Johnny Maestro', 'Doris Day', 'The Chords', 'The Crew Cuts', 'Tommy Edwards', 'Neil Sedaka', 'Pat Boone', 'Jan & Dean', 'Dean Martin', 'Bobby Vee', 'Frank Sinatra', 'Ella Fitzgerald', 'The Five Satins', 'The Platters', 'Louis Prima', 'Connie Francis', 'Buddy Holly', 'Johnny Tillotson', 'The Five Satins', 'Max Bygraves', 'The Teddy Bears', 'Mel Torme & the Mel-Tones', 'James Darren', 'The Fleetwoods', 'The Temprees', 'Dean Martin', 'The Fleetwoods', 'The Hilltoppers', 'The Chordettes', 'The Five Keys', 'Roy Orbison', 'The Teddy Bears', 'Craig Douglas', 'Teresa Brewer', 'Clarence \"Frogman\" Henry', 'Craig Douglas', 'Billy Eckstine', 'Adam Faith', 'Timi Yuro', 'Joan Regan', 'Jimmy Young', 'Bobby Freeman', 'David Whitfield', 'Anne Shelton', 'The Hilltoppers', 'Marty Wilde', 'Bob Sharples & His Music', 'Stargazers', 'Frankie Vaughan', 'Jimmy Rodgers', 'Tommy Steele', 'Frankie Vaughan', 'Tab Hunter', 'Craig Douglas', 'Jayne Mansfield', 'Green Martini Keys', 'Ike Carpenter Orchestra', 'Billy Fury', 'Suzi Miller And Johnson Brothers', 'Terry Dene', 'Anthony Newley', 'Rusty Draper'],\n",
    "    'top genre ': ['adult standards', 'adult standards', 'adult standards', 'adult standards', 'adult standards', 'adult standards', 'adult standards', 'adult standards', 'adult standards', 'adult standards', 'adult standards', 'brill building pop', 'adult standards', 'doo-wop', 'doo-wop', 'deep adult standards', 'adult standards', 'adult standards', 'brill building pop', 'adult standards', 'adult standards', 'adult standards', 'adult standards', 'brill building pop', 'deep adult standards', 'adult standards', 'adult standards', 'adult standards', 'adult standards', 'adult standards', 'british comedy', '', '', 'adult standards', 'adult standards', 'classic soul', 'adult standards', 'adult standards', 'adult standards', 'deep adult standards', 'doo-wop', 'adult standards', 'adult standards', 'adult standards', 'adult standards', 'adult standards', 'adult standards', '', 'brill building pop', 'adult standards', 'adult standards', '', 'deep adult standards', 'british dance band', 'deep adult standards', 'brill building pop', '', '', '', '', 'deep adult standards', 'brill building pop', '', '', '', '', '', 'deep adult standards'],\n",
    "    'year': [2000, 1948, 2013, 2011, 1959, 1962, 2000, 1991, 1993, 1961, 1990, 1993, 1945, 2007, 2006, 1994, 1959, 1962, 1990, 1960, 1961, 1958, 1959, 2010, 1957, 1973, 1996, 1963, 2011, 2008, 2000, 2016, 2014, 2011, 2007, 2011, 2008, 2007, 1993, 2012, 1989, 1961, 2013, 1993, 2011, 1959, 2010, 2011, 2011, 2000, 1995, 2013, 2011, 1958, 1989, 2013, 2019, 2007, 2000, 2016, 2019, 2010, 2001, 2010, 2014, 2000, 2010, 2000, 2008, 2016, 2006, 2012, 1982, 2012, 2015, 2012, 1953]\n",
    "}\n"
   ]
  },
  {
   "cell_type": "markdown",
   "id": "e0dafc86",
   "metadata": {},
   "source": [
    "# Spilting the data to find the Top Genre"
   ]
  },
  {
   "cell_type": "code",
   "execution_count": 42,
   "id": "09e6c4a7",
   "metadata": {},
   "outputs": [],
   "source": [
    "from sklearn.model_selection import train_test_split\n"
   ]
  },
  {
   "cell_type": "code",
   "execution_count": 43,
   "id": "5f2bef81",
   "metadata": {},
   "outputs": [],
   "source": [
    "import pandas as pd"
   ]
  },
  {
   "cell_type": "code",
   "execution_count": 44,
   "id": "05ff1941",
   "metadata": {},
   "outputs": [],
   "source": [
    "file_path = 'ML2.csv'"
   ]
  },
  {
   "cell_type": "code",
   "execution_count": 45,
   "id": "8ed66220",
   "metadata": {},
   "outputs": [],
   "source": [
    "df = pd.read_csv(file_path, encoding='latin1')"
   ]
  },
  {
   "cell_type": "code",
   "execution_count": 50,
   "id": "4933656c",
   "metadata": {},
   "outputs": [
    {
     "name": "stdout",
     "output_type": "stream",
     "text": [
      "   Number                                              title  \\\n",
      "0       1                       Put Your Head On My Shoulder   \n",
      "1       2  Whatever Will Be Will Be (Que Sera Sera) (with...   \n",
      "2       3                           Everybody Loves Somebody   \n",
      "3       4        Take Good Care Of My Baby - 1990 Remastered   \n",
      "4       5                                 A Teenager In Love   \n",
      "\n",
      "                artist        top genre  year  bpm  nrgy  dnce  dB  live  val  \\\n",
      "0            Paul Anka  adult standards  2000  116    34    55  -9    10   47   \n",
      "1            Doris Day  adult standards  1948  177    34    42 -11    72   78   \n",
      "2          Dean Martin  adult standards  2013   81    49    26  -9    34   40   \n",
      "3            Bobby Vee  adult standards  2011   82    43    49 -12    12   66   \n",
      "4  Dion & The Belmonts  adult standards  1959   79    38    56  -9    13   62   \n",
      "\n",
      "   dur  acous  spch  pop  \n",
      "0  155     75     3   72  \n",
      "1  123     86     4   62  \n",
      "2  162     81     4   61  \n",
      "3  151     70     6   60  \n",
      "4  158     67     3   60  \n"
     ]
    }
   ],
   "source": [
    "print(df.head())"
   ]
  },
  {
   "cell_type": "code",
   "execution_count": 53,
   "id": "1d5ed0cf",
   "metadata": {},
   "outputs": [],
   "source": [
    "df.columns = df.columns.str.strip()"
   ]
  },
  {
   "cell_type": "code",
   "execution_count": 54,
   "id": "fdf7f635",
   "metadata": {},
   "outputs": [],
   "source": [
    "target_variable = ' top genre'\n"
   ]
  },
  {
   "cell_type": "code",
   "execution_count": 56,
   "id": "7ddf4e26",
   "metadata": {},
   "outputs": [],
   "source": [
    "X = df.drop(columns=['top genre'])  # Features\n",
    "y = df['top genre']"
   ]
  },
  {
   "cell_type": "code",
   "execution_count": 57,
   "id": "77e95add",
   "metadata": {},
   "outputs": [],
   "source": [
    "train_data, test_data = train_test_split(file_path, test_size=0.2, random_state=42)"
   ]
  },
  {
   "cell_type": "code",
   "execution_count": 58,
   "id": "4e07b088",
   "metadata": {},
   "outputs": [],
   "source": [
    "X_train, X_test, y_train, y_test = train_test_split(X, y, test_size=0.2, random_state=42)\n"
   ]
  },
  {
   "cell_type": "code",
   "execution_count": 59,
   "id": "ff1e484f",
   "metadata": {},
   "outputs": [
    {
     "name": "stdout",
     "output_type": "stream",
     "text": [
      "Training set shape: (58, 14) (58,)\n",
      "Testing set shape: (15, 14) (15,)\n"
     ]
    }
   ],
   "source": [
    "print(\"Training set shape:\", X_train.shape, y_train.shape)\n",
    "print(\"Testing set shape:\", X_test.shape, y_test.shape)"
   ]
  },
  {
   "cell_type": "markdown",
   "id": "0b47faf2",
   "metadata": {},
   "source": [
    "# Decision trees classification model to predict the top genre"
   ]
  },
  {
   "cell_type": "code",
   "execution_count": 145,
   "id": "cdabf117",
   "metadata": {},
   "outputs": [],
   "source": [
    "from sklearn.tree import DecisionTreeClassifier\n"
   ]
  },
  {
   "cell_type": "code",
   "execution_count": 146,
   "id": "fab425df",
   "metadata": {},
   "outputs": [],
   "source": [
    "from sklearn.metrics import accuracy_score\n"
   ]
  },
  {
   "cell_type": "code",
   "execution_count": 147,
   "id": "3212564c",
   "metadata": {},
   "outputs": [],
   "source": [
    "from sklearn.model_selection import train_test_split\n"
   ]
  },
  {
   "cell_type": "code",
   "execution_count": 148,
   "id": "9c07e065",
   "metadata": {},
   "outputs": [],
   "source": [
    "from sklearn.impute import SimpleImputer\n"
   ]
  },
  {
   "cell_type": "code",
   "execution_count": 149,
   "id": "3a82c554",
   "metadata": {},
   "outputs": [],
   "source": [
    "df = pd.read_csv(\"ML2.csv\")"
   ]
  },
  {
   "cell_type": "code",
   "execution_count": 150,
   "id": "ce211548",
   "metadata": {},
   "outputs": [
    {
     "name": "stdout",
     "output_type": "stream",
     "text": [
      "Number        0\n",
      "title         0\n",
      "artist        0\n",
      "top genre    12\n",
      "year          0\n",
      "bpm           0\n",
      "nrgy          0\n",
      "dnce          0\n",
      "dB            0\n",
      "live          0\n",
      "val           0\n",
      "dur           0\n",
      "acous         0\n",
      "spch          0\n",
      "pop           0\n",
      "dtype: int64\n"
     ]
    }
   ],
   "source": [
    "print(df.isnull().sum())"
   ]
  },
  {
   "cell_type": "code",
   "execution_count": 151,
   "id": "4d7ed9b9",
   "metadata": {},
   "outputs": [],
   "source": [
    "df.dropna(axis=0, inplace=True)  "
   ]
  },
  {
   "cell_type": "code",
   "execution_count": 152,
   "id": "b5f3c61f",
   "metadata": {},
   "outputs": [],
   "source": [
    "X = df.drop(columns=[\"top genre\", \"title\", \"artist\"])"
   ]
  },
  {
   "cell_type": "code",
   "execution_count": 153,
   "id": "bb710de5",
   "metadata": {},
   "outputs": [],
   "source": [
    "y = df[\"top genre\"]"
   ]
  },
  {
   "cell_type": "code",
   "execution_count": 154,
   "id": "bb43dc40",
   "metadata": {},
   "outputs": [],
   "source": [
    "X_train, X_test, y_train, y_test = train_test_split(X, y, test_size=0.2, random_state=42)"
   ]
  },
  {
   "cell_type": "code",
   "execution_count": 155,
   "id": "9df6c715",
   "metadata": {},
   "outputs": [],
   "source": [
    "clf = DecisionTreeClassifier()"
   ]
  },
  {
   "cell_type": "code",
   "execution_count": 156,
   "id": "336c2c3f",
   "metadata": {},
   "outputs": [],
   "source": [
    "import numpy as np"
   ]
  },
  {
   "cell_type": "code",
   "execution_count": 158,
   "id": "cc9361bf",
   "metadata": {},
   "outputs": [],
   "source": [
    "imputer = SimpleImputer(strategy=\"mean\")\n",
    "X_train_imputed = imputer.fit_transform(X_train)\n",
    "X_test_imputed = imputer.transform(X_test)"
   ]
  },
  {
   "cell_type": "code",
   "execution_count": 160,
   "id": "a784f433",
   "metadata": {},
   "outputs": [
    {
     "data": {
      "text/html": [
       "<style>#sk-container-id-1 {color: black;}#sk-container-id-1 pre{padding: 0;}#sk-container-id-1 div.sk-toggleable {background-color: white;}#sk-container-id-1 label.sk-toggleable__label {cursor: pointer;display: block;width: 100%;margin-bottom: 0;padding: 0.3em;box-sizing: border-box;text-align: center;}#sk-container-id-1 label.sk-toggleable__label-arrow:before {content: \"▸\";float: left;margin-right: 0.25em;color: #696969;}#sk-container-id-1 label.sk-toggleable__label-arrow:hover:before {color: black;}#sk-container-id-1 div.sk-estimator:hover label.sk-toggleable__label-arrow:before {color: black;}#sk-container-id-1 div.sk-toggleable__content {max-height: 0;max-width: 0;overflow: hidden;text-align: left;background-color: #f0f8ff;}#sk-container-id-1 div.sk-toggleable__content pre {margin: 0.2em;color: black;border-radius: 0.25em;background-color: #f0f8ff;}#sk-container-id-1 input.sk-toggleable__control:checked~div.sk-toggleable__content {max-height: 200px;max-width: 100%;overflow: auto;}#sk-container-id-1 input.sk-toggleable__control:checked~label.sk-toggleable__label-arrow:before {content: \"▾\";}#sk-container-id-1 div.sk-estimator input.sk-toggleable__control:checked~label.sk-toggleable__label {background-color: #d4ebff;}#sk-container-id-1 div.sk-label input.sk-toggleable__control:checked~label.sk-toggleable__label {background-color: #d4ebff;}#sk-container-id-1 input.sk-hidden--visually {border: 0;clip: rect(1px 1px 1px 1px);clip: rect(1px, 1px, 1px, 1px);height: 1px;margin: -1px;overflow: hidden;padding: 0;position: absolute;width: 1px;}#sk-container-id-1 div.sk-estimator {font-family: monospace;background-color: #f0f8ff;border: 1px dotted black;border-radius: 0.25em;box-sizing: border-box;margin-bottom: 0.5em;}#sk-container-id-1 div.sk-estimator:hover {background-color: #d4ebff;}#sk-container-id-1 div.sk-parallel-item::after {content: \"\";width: 100%;border-bottom: 1px solid gray;flex-grow: 1;}#sk-container-id-1 div.sk-label:hover label.sk-toggleable__label {background-color: #d4ebff;}#sk-container-id-1 div.sk-serial::before {content: \"\";position: absolute;border-left: 1px solid gray;box-sizing: border-box;top: 0;bottom: 0;left: 50%;z-index: 0;}#sk-container-id-1 div.sk-serial {display: flex;flex-direction: column;align-items: center;background-color: white;padding-right: 0.2em;padding-left: 0.2em;position: relative;}#sk-container-id-1 div.sk-item {position: relative;z-index: 1;}#sk-container-id-1 div.sk-parallel {display: flex;align-items: stretch;justify-content: center;background-color: white;position: relative;}#sk-container-id-1 div.sk-item::before, #sk-container-id-1 div.sk-parallel-item::before {content: \"\";position: absolute;border-left: 1px solid gray;box-sizing: border-box;top: 0;bottom: 0;left: 50%;z-index: -1;}#sk-container-id-1 div.sk-parallel-item {display: flex;flex-direction: column;z-index: 1;position: relative;background-color: white;}#sk-container-id-1 div.sk-parallel-item:first-child::after {align-self: flex-end;width: 50%;}#sk-container-id-1 div.sk-parallel-item:last-child::after {align-self: flex-start;width: 50%;}#sk-container-id-1 div.sk-parallel-item:only-child::after {width: 0;}#sk-container-id-1 div.sk-dashed-wrapped {border: 1px dashed gray;margin: 0 0.4em 0.5em 0.4em;box-sizing: border-box;padding-bottom: 0.4em;background-color: white;}#sk-container-id-1 div.sk-label label {font-family: monospace;font-weight: bold;display: inline-block;line-height: 1.2em;}#sk-container-id-1 div.sk-label-container {text-align: center;}#sk-container-id-1 div.sk-container {/* jupyter's `normalize.less` sets `[hidden] { display: none; }` but bootstrap.min.css set `[hidden] { display: none !important; }` so we also need the `!important` here to be able to override the default hidden behavior on the sphinx rendered scikit-learn.org. See: https://github.com/scikit-learn/scikit-learn/issues/21755 */display: inline-block !important;position: relative;}#sk-container-id-1 div.sk-text-repr-fallback {display: none;}</style><div id=\"sk-container-id-1\" class=\"sk-top-container\"><div class=\"sk-text-repr-fallback\"><pre>DecisionTreeClassifier()</pre><b>In a Jupyter environment, please rerun this cell to show the HTML representation or trust the notebook. <br />On GitHub, the HTML representation is unable to render, please try loading this page with nbviewer.org.</b></div><div class=\"sk-container\" hidden><div class=\"sk-item\"><div class=\"sk-estimator sk-toggleable\"><input class=\"sk-toggleable__control sk-hidden--visually\" id=\"sk-estimator-id-1\" type=\"checkbox\" checked><label for=\"sk-estimator-id-1\" class=\"sk-toggleable__label sk-toggleable__label-arrow\">DecisionTreeClassifier</label><div class=\"sk-toggleable__content\"><pre>DecisionTreeClassifier()</pre></div></div></div></div></div>"
      ],
      "text/plain": [
       "DecisionTreeClassifier()"
      ]
     },
     "execution_count": 160,
     "metadata": {},
     "output_type": "execute_result"
    }
   ],
   "source": [
    "clf.fit(X_train_imputed, y_train)\n"
   ]
  },
  {
   "cell_type": "code",
   "execution_count": 161,
   "id": "31b4a65e",
   "metadata": {},
   "outputs": [],
   "source": [
    "predictions = clf.predict(X_test_imputed)\n"
   ]
  },
  {
   "cell_type": "code",
   "execution_count": 162,
   "id": "30ca49f9",
   "metadata": {},
   "outputs": [
    {
     "name": "stdout",
     "output_type": "stream",
     "text": [
      "Accuracy: 0.3076923076923077\n"
     ]
    }
   ],
   "source": [
    "accuracy = accuracy_score(y_test, predictions)\n",
    "print(\"Accuracy:\", accuracy)"
   ]
  },
  {
   "cell_type": "code",
   "execution_count": null,
   "id": "2647bec7",
   "metadata": {},
   "outputs": [],
   "source": [
    "EVALUATING Decission Trees MODEL"
   ]
  },
  {
   "cell_type": "code",
   "execution_count": 283,
   "id": "5b23b9b3",
   "metadata": {},
   "outputs": [],
   "source": [
    "precision = precision_score(y_test, y_pred, average='micro', zero_division=1)\n",
    "recall = recall_score(y_test, y_pred, average='macro', zero_division=1)\n",
    "f1 = f1_score(y_test, y_pred, average='weighted', zero_division=1)"
   ]
  },
  {
   "cell_type": "code",
   "execution_count": 284,
   "id": "5764cd4c",
   "metadata": {},
   "outputs": [
    {
     "name": "stdout",
     "output_type": "stream",
     "text": [
      "Precision: 0.8461538461538461\n",
      "Recall: 0.6666666666666666\n",
      "F1-score: 0.8076923076923077\n"
     ]
    }
   ],
   "source": [
    "print(\"Precision:\", precision)\n",
    "print(\"Recall:\", recall)\n",
    "print(\"F1-score:\", f1)"
   ]
  },
  {
   "cell_type": "code",
   "execution_count": 285,
   "id": "7fd6e84d",
   "metadata": {},
   "outputs": [
    {
     "name": "stdout",
     "output_type": "stream",
     "text": [
      "\n",
      "Classification Report:\n",
      "              precision    recall  f1-score   support\n",
      "\n",
      "           0       1.00      1.00      1.00         5\n",
      "           5       0.00      0.00      0.00         1\n",
      "           6       1.00      1.00      1.00         3\n",
      "           7       1.00      1.00      1.00         2\n",
      "           9       0.33      1.00      0.50         1\n",
      "          10       0.00      0.00      0.00         1\n",
      "\n",
      "    accuracy                           0.85        13\n",
      "   macro avg       0.56      0.67      0.58        13\n",
      "weighted avg       0.79      0.85      0.81        13\n",
      "\n"
     ]
    }
   ],
   "source": [
    "print(\"\\nClassification Report:\")\n",
    "print(classification_report(y_test, y_pred, zero_division=0))"
   ]
  },
  {
   "cell_type": "markdown",
   "id": "df5e3142",
   "metadata": {},
   "source": [
    "# Random Forest classification model to predict the Top Genre"
   ]
  },
  {
   "cell_type": "code",
   "execution_count": 163,
   "id": "11d09f9d",
   "metadata": {},
   "outputs": [],
   "source": [
    "from sklearn.ensemble import RandomForestClassifier\n"
   ]
  },
  {
   "cell_type": "code",
   "execution_count": 164,
   "id": "2e9718c9",
   "metadata": {},
   "outputs": [],
   "source": [
    "data = {\n",
    "    'Number': [1, 2, 3, 4, 5, 6, 7, 8, 9, 10, 11, 12, 13, 14, 15, 16, 17, 18, 19, 20, \n",
    "               21, 22, 23, 24, 25, 26, 27, 28, 29, 30, 31, 32, 33, 34, 35, 36, 37, \n",
    "               38, 39, 40, 41, 42, 43, 44, 45, 46, 47, 48, 49, 50, 51, 52, 53, 54, \n",
    "               55, 56, 57, 58, 59, 60, 61, 62, 63, 64, 65, 66, 67, 68, 69, 70, 71, 72, 73],\n",
    "    'title': ['Put Your Head On My Shoulder', 'Whatever Will Be Will Be (Que Sera Sera) (with Frank DeVol & His Orchestra) - Single Version', 'Everybody Loves Somebody', 'Take Good Care Of My Baby - 1990 Remastered', 'A Teenager In Love', 'She\\'s Got You - Single Version', 'Puppy Love - Remix', 'Travelin\\' Man - Remastered', 'Mr. Blue', 'Itsy Bitsy Teenie Yellow Polka Dot Bikini', 'Lonesome Town - 1990 Digital Remaster', '16 Candles', 'If I Give My Heart to You (with The Mellomen) - 78rpm Version', 'Sh-Boom - Single Version', 'Sh-Boom (Life Could Be A Dream)', 'It\\'s All In The Game', 'You Mean Everything to Me', 'April Love', 'Surf City - Remastered 1990/Stereo Remix', 'I\\'ve Grown Accustomed To Her Face - Remastered/1998', 'Rubber Ball', 'Chicago - Remastered', 'But Not For Me', 'In The Still Of The Night', 'Only Because', 'Che La Luna', 'My Happiness', 'Brown Eyed Handsome Man', 'Poetry In Motion', 'To The Aisle', 'Tulips From Amsterdam', 'If I Give My Heart To You', 'The Lady Is A Tramp', 'Let\\'s Fall in Love', 'Runaround', 'A Thousand Miles Away', 'Walkinâ€™ My Baby Back Home', 'Outside My Window', 'I Love My Girl', 'Eddie My Love', 'Let There Be You', 'Raindrops', 'Unchained Melody', 'It All Depends on You', 'A Tear Fell', 'Ain\\'t Got No Home', 'Carolina in the Morning', 'Gigi', 'What Do You Want', 'You Belong to My Heart', 'Someone Elses Roses', 'More', 'Do You Wanna Dance', 'My September Love', 'Seven Days', 'Marianne', 'Sea Of Love', 'No Other Love', 'Hot Diggity', 'Kisses Sweeter Than Wine', 'Are You Really Mine', 'Butterfingers', 'Come Softly To Me', 'Ninety-Nine Ways', 'Only Sixteen - 2004 Remaster', 'Little Things Means A Lot', 'Drinks On The House', 'Pachuko Hop', 'Collette', 'Happy Days And Lonely Nights', 'Stairway Of Love', 'I\\'ve Waited So Long', 'Held for Questioning'],\n",
    "    'artist': ['Paul Anka', 'Doris Day', 'Dean Martin', 'Bobby Vee', 'Dion & The Belmonts', 'Patsy Cline', 'Paul Anka', 'Ricky Nelson', 'The Fleetwoods', 'Brian Hyland', 'Ricky Nelson', 'Johnny Maestro', 'Doris Day', 'The Chords', 'The Crew Cuts', 'Tommy Edwards', 'Neil Sedaka', 'Pat Boone', 'Jan & Dean', 'Dean Martin', 'Bobby Vee', 'Frank Sinatra', 'Ella Fitzgerald', 'The Five Satins', 'The Platters', 'Louis Prima', 'Connie Francis', 'Buddy Holly', 'Johnny Tillotson', 'The Five Satins', 'Max Bygraves', 'The Teddy Bears', 'Mel Torme & the Mel-Tones', 'James Darren', 'The Fleetwoods', 'The Temprees', 'Dean Martin', 'The Fleetwoods', 'The Hilltoppers', 'The Chordettes', 'The Five Keys', 'Roy Orbison', 'The Teddy Bears', 'Craig Douglas', 'Teresa Brewer', 'Clarence \"Frogman\" Henry', 'Craig Douglas', 'Billy Eckstine', 'Adam Faith', 'Timi Yuro', 'Joan Regan', 'Jimmy Young', 'Bobby Freeman', 'David Whitfield', 'Anne Shelton', 'The Hilltoppers', 'Marty Wilde', 'Bob Sharples & His Music', 'Stargazers', 'Frankie Vaughan', 'Jimmy Rodgers', 'Tommy Steele', 'Frankie Vaughan', 'Tab Hunter', 'Craig Douglas', 'Jayne Mansfield', 'Green Martini Keys', 'Ike Carpenter Orchestra', 'Billy Fury', 'Suzi Miller And Johnson Brothers', 'Terry Dene', 'Anthony Newley', 'Rusty Draper'],\n",
    "    'top genre ': ['adult standards', 'adult standards', 'adult standards', 'adult standards', 'adult standards', 'adult standards', 'adult standards', 'adult standards', 'adult standards', 'adult standards', 'adult standards', 'brill building pop', 'adult standards', 'doo-wop', 'doo-wop', 'deep adult standards', 'adult standards', 'adult standards', 'brill building pop', 'adult standards', 'adult standards', 'adult standards', 'adult standards', 'brill building pop', 'deep adult standards', 'adult standards', 'adult standards', 'adult standards', 'adult standards', 'adult standards', 'british comedy', '', '', 'adult standards', 'adult standards', 'classic soul', 'adult standards', 'adult standards', 'adult standards', 'deep adult standards', 'doo-wop', 'adult standards', 'adult standards', 'adult standards', 'adult standards', 'adult standards', 'adult standards', '', 'brill building pop', 'adult standards', 'adult standards', '', 'deep adult standards', 'british dance band', 'deep adult standards', 'brill building pop', '', '', '', '', 'deep adult standards', 'brill building pop', '', '', '', '', '', 'deep adult standards'],\n",
    "    'year': [2000, 1948, 2013, 2011, 1959, 1962, 2000, 1991, 1993, 1961, 1990, 1993, 1945, 2007, 2006, 1994, 1959, 1962, 1990, 1960, 1961, 1958, 1959, 2010, 1957, 1973, 1996, 1963, 2011, 2008, 2000, 2016, 2014, 2011, 2007, 2011, 2008, 2007, 1993, 2012, 1989, 1961, 2013, 1993, 2011, 1959, 2010, 2011, 2011, 2000, 1995, 2013, 2011, 1958, 1989, 2013, 2019, 2007, 2000, 2016, 2019, 2010, 2001, 2010, 2014, 2000, 2010, 2000, 2008, 2016, 2006, 2012, 1982, 2012, 2015, 2012, 1953]\n",
    "}\n"
   ]
  },
  {
   "cell_type": "code",
   "execution_count": 168,
   "id": "27037497",
   "metadata": {},
   "outputs": [],
   "source": [
    "df = df.drop(columns=['Number', 'title', 'artist'])\n"
   ]
  },
  {
   "cell_type": "code",
   "execution_count": 169,
   "id": "85d9f99e",
   "metadata": {},
   "outputs": [],
   "source": [
    "df['top genre'] = pd.factorize(df['top genre'])[0]\n"
   ]
  },
  {
   "cell_type": "code",
   "execution_count": 170,
   "id": "cb1f7e03",
   "metadata": {},
   "outputs": [],
   "source": [
    "X = df.drop('top genre', axis=1)\n",
    "y = df['top genre']"
   ]
  },
  {
   "cell_type": "code",
   "execution_count": 171,
   "id": "9dcc550e",
   "metadata": {},
   "outputs": [],
   "source": [
    "X_train, X_test, y_train, y_test = train_test_split(X, y, test_size=0.8, random_state=42)\n"
   ]
  },
  {
   "cell_type": "code",
   "execution_count": 172,
   "id": "db323abd",
   "metadata": {},
   "outputs": [],
   "source": [
    "clf = RandomForestClassifier()\n"
   ]
  },
  {
   "cell_type": "code",
   "execution_count": 173,
   "id": "baab349d",
   "metadata": {},
   "outputs": [
    {
     "data": {
      "text/html": [
       "<style>#sk-container-id-2 {color: black;}#sk-container-id-2 pre{padding: 0;}#sk-container-id-2 div.sk-toggleable {background-color: white;}#sk-container-id-2 label.sk-toggleable__label {cursor: pointer;display: block;width: 100%;margin-bottom: 0;padding: 0.3em;box-sizing: border-box;text-align: center;}#sk-container-id-2 label.sk-toggleable__label-arrow:before {content: \"▸\";float: left;margin-right: 0.25em;color: #696969;}#sk-container-id-2 label.sk-toggleable__label-arrow:hover:before {color: black;}#sk-container-id-2 div.sk-estimator:hover label.sk-toggleable__label-arrow:before {color: black;}#sk-container-id-2 div.sk-toggleable__content {max-height: 0;max-width: 0;overflow: hidden;text-align: left;background-color: #f0f8ff;}#sk-container-id-2 div.sk-toggleable__content pre {margin: 0.2em;color: black;border-radius: 0.25em;background-color: #f0f8ff;}#sk-container-id-2 input.sk-toggleable__control:checked~div.sk-toggleable__content {max-height: 200px;max-width: 100%;overflow: auto;}#sk-container-id-2 input.sk-toggleable__control:checked~label.sk-toggleable__label-arrow:before {content: \"▾\";}#sk-container-id-2 div.sk-estimator input.sk-toggleable__control:checked~label.sk-toggleable__label {background-color: #d4ebff;}#sk-container-id-2 div.sk-label input.sk-toggleable__control:checked~label.sk-toggleable__label {background-color: #d4ebff;}#sk-container-id-2 input.sk-hidden--visually {border: 0;clip: rect(1px 1px 1px 1px);clip: rect(1px, 1px, 1px, 1px);height: 1px;margin: -1px;overflow: hidden;padding: 0;position: absolute;width: 1px;}#sk-container-id-2 div.sk-estimator {font-family: monospace;background-color: #f0f8ff;border: 1px dotted black;border-radius: 0.25em;box-sizing: border-box;margin-bottom: 0.5em;}#sk-container-id-2 div.sk-estimator:hover {background-color: #d4ebff;}#sk-container-id-2 div.sk-parallel-item::after {content: \"\";width: 100%;border-bottom: 1px solid gray;flex-grow: 1;}#sk-container-id-2 div.sk-label:hover label.sk-toggleable__label {background-color: #d4ebff;}#sk-container-id-2 div.sk-serial::before {content: \"\";position: absolute;border-left: 1px solid gray;box-sizing: border-box;top: 0;bottom: 0;left: 50%;z-index: 0;}#sk-container-id-2 div.sk-serial {display: flex;flex-direction: column;align-items: center;background-color: white;padding-right: 0.2em;padding-left: 0.2em;position: relative;}#sk-container-id-2 div.sk-item {position: relative;z-index: 1;}#sk-container-id-2 div.sk-parallel {display: flex;align-items: stretch;justify-content: center;background-color: white;position: relative;}#sk-container-id-2 div.sk-item::before, #sk-container-id-2 div.sk-parallel-item::before {content: \"\";position: absolute;border-left: 1px solid gray;box-sizing: border-box;top: 0;bottom: 0;left: 50%;z-index: -1;}#sk-container-id-2 div.sk-parallel-item {display: flex;flex-direction: column;z-index: 1;position: relative;background-color: white;}#sk-container-id-2 div.sk-parallel-item:first-child::after {align-self: flex-end;width: 50%;}#sk-container-id-2 div.sk-parallel-item:last-child::after {align-self: flex-start;width: 50%;}#sk-container-id-2 div.sk-parallel-item:only-child::after {width: 0;}#sk-container-id-2 div.sk-dashed-wrapped {border: 1px dashed gray;margin: 0 0.4em 0.5em 0.4em;box-sizing: border-box;padding-bottom: 0.4em;background-color: white;}#sk-container-id-2 div.sk-label label {font-family: monospace;font-weight: bold;display: inline-block;line-height: 1.2em;}#sk-container-id-2 div.sk-label-container {text-align: center;}#sk-container-id-2 div.sk-container {/* jupyter's `normalize.less` sets `[hidden] { display: none; }` but bootstrap.min.css set `[hidden] { display: none !important; }` so we also need the `!important` here to be able to override the default hidden behavior on the sphinx rendered scikit-learn.org. See: https://github.com/scikit-learn/scikit-learn/issues/21755 */display: inline-block !important;position: relative;}#sk-container-id-2 div.sk-text-repr-fallback {display: none;}</style><div id=\"sk-container-id-2\" class=\"sk-top-container\"><div class=\"sk-text-repr-fallback\"><pre>RandomForestClassifier()</pre><b>In a Jupyter environment, please rerun this cell to show the HTML representation or trust the notebook. <br />On GitHub, the HTML representation is unable to render, please try loading this page with nbviewer.org.</b></div><div class=\"sk-container\" hidden><div class=\"sk-item\"><div class=\"sk-estimator sk-toggleable\"><input class=\"sk-toggleable__control sk-hidden--visually\" id=\"sk-estimator-id-2\" type=\"checkbox\" checked><label for=\"sk-estimator-id-2\" class=\"sk-toggleable__label sk-toggleable__label-arrow\">RandomForestClassifier</label><div class=\"sk-toggleable__content\"><pre>RandomForestClassifier()</pre></div></div></div></div></div>"
      ],
      "text/plain": [
       "RandomForestClassifier()"
      ]
     },
     "execution_count": 173,
     "metadata": {},
     "output_type": "execute_result"
    }
   ],
   "source": [
    "clf.fit(X_train, y_train)\n"
   ]
  },
  {
   "cell_type": "code",
   "execution_count": 174,
   "id": "c5c708af",
   "metadata": {},
   "outputs": [],
   "source": [
    "y_pred = clf.predict(X_test)\n"
   ]
  },
  {
   "cell_type": "code",
   "execution_count": 175,
   "id": "4f810b16",
   "metadata": {},
   "outputs": [
    {
     "name": "stdout",
     "output_type": "stream",
     "text": [
      "Accuracy: 0.631578947368421\n"
     ]
    }
   ],
   "source": [
    "print(\"Accuracy:\", accuracy_score(y_test, y_pred))\n"
   ]
  },
  {
   "cell_type": "code",
   "execution_count": null,
   "id": "3cc03adc",
   "metadata": {},
   "outputs": [],
   "source": [
    "EVALUATING RANDOM FOREST MODEL"
   ]
  },
  {
   "cell_type": "code",
   "execution_count": 276,
   "id": "8771e3c8",
   "metadata": {},
   "outputs": [],
   "source": [
    "precision = precision_score(y_test, y_pred, average='micro', zero_division=1)\n",
    "recall = recall_score(y_test, y_pred, average='macro', zero_division=1)\n",
    "f1 = f1_score(y_test, y_pred, average='weighted', zero_division=1)"
   ]
  },
  {
   "cell_type": "code",
   "execution_count": 277,
   "id": "94c7f96a",
   "metadata": {},
   "outputs": [
    {
     "name": "stdout",
     "output_type": "stream",
     "text": [
      "Precision: 0.8461538461538461\n",
      "Recall: 0.6666666666666666\n",
      "F1-score: 0.8076923076923077\n"
     ]
    }
   ],
   "source": [
    "print(\"Precision:\", precision)\n",
    "print(\"Recall:\", recall)\n",
    "print(\"F1-score:\", f1)"
   ]
  },
  {
   "cell_type": "code",
   "execution_count": 278,
   "id": "04f3f3a4",
   "metadata": {},
   "outputs": [
    {
     "name": "stdout",
     "output_type": "stream",
     "text": [
      "\n",
      "Classification Report:\n",
      "              precision    recall  f1-score   support\n",
      "\n",
      "           0       1.00      1.00      1.00         5\n",
      "           5       0.00      0.00      0.00         1\n",
      "           6       1.00      1.00      1.00         3\n",
      "           7       1.00      1.00      1.00         2\n",
      "           9       0.33      1.00      0.50         1\n",
      "          10       0.00      0.00      0.00         1\n",
      "\n",
      "    accuracy                           0.85        13\n",
      "   macro avg       0.56      0.67      0.58        13\n",
      "weighted avg       0.79      0.85      0.81        13\n",
      "\n"
     ]
    }
   ],
   "source": [
    "print(\"\\nClassification Report:\")\n",
    "print(classification_report(y_test, y_pred, zero_division=0))"
   ]
  },
  {
   "cell_type": "markdown",
   "id": "0d762eb7",
   "metadata": {},
   "source": [
    "# SVM model to predict the Top Genre"
   ]
  },
  {
   "cell_type": "code",
   "execution_count": 176,
   "id": "71cf397d",
   "metadata": {},
   "outputs": [],
   "source": [
    "from sklearn.svm import SVC\n"
   ]
  },
  {
   "cell_type": "code",
   "execution_count": 177,
   "id": "3c71cc0b",
   "metadata": {},
   "outputs": [],
   "source": [
    "from sklearn.preprocessing import LabelEncoder\n"
   ]
  },
  {
   "cell_type": "code",
   "execution_count": 186,
   "id": "b4a763fc",
   "metadata": {},
   "outputs": [],
   "source": [
    "df = pd.read_csv(\"ML2.csv\")"
   ]
  },
  {
   "cell_type": "code",
   "execution_count": 196,
   "id": "4c015c70",
   "metadata": {},
   "outputs": [],
   "source": [
    "df.dropna(axis=0, inplace=True)  "
   ]
  },
  {
   "cell_type": "code",
   "execution_count": 210,
   "id": "5ccbfbac",
   "metadata": {},
   "outputs": [],
   "source": [
    "X = df.drop(columns=['Number', 'title', 'artist', 'year', 'bpm', 'nrgy', 'dnce', 'dB', 'live', 'val', 'dur', 'acous', 'spch', 'pop'])\n"
   ]
  },
  {
   "cell_type": "code",
   "execution_count": 223,
   "id": "cd2cc11c",
   "metadata": {},
   "outputs": [],
   "source": [
    "label_encoder = LabelEncoder()\n",
    "y = label_encoder.fit_transform(df['top genre'])"
   ]
  },
  {
   "cell_type": "code",
   "execution_count": 227,
   "id": "aecdb962",
   "metadata": {},
   "outputs": [],
   "source": [
    "X = pd.get_dummies(df.drop(columns=['Number', 'title', 'artist', 'year', 'bpm', 'nrgy', 'dnce', 'dB', 'live', 'val', 'dur', 'acous', 'spch', 'pop']))"
   ]
  },
  {
   "cell_type": "code",
   "execution_count": 228,
   "id": "2d2dddec",
   "metadata": {},
   "outputs": [],
   "source": [
    "X_train, X_test, y_train, y_test = train_test_split(X, y, test_size=0.2, random_state=46)\n"
   ]
  },
  {
   "cell_type": "code",
   "execution_count": 229,
   "id": "1d036348",
   "metadata": {},
   "outputs": [],
   "source": [
    "svm_classifier = SVC(kernel='linear')"
   ]
  },
  {
   "cell_type": "code",
   "execution_count": 230,
   "id": "cfd30f4f",
   "metadata": {},
   "outputs": [
    {
     "data": {
      "text/html": [
       "<style>#sk-container-id-3 {color: black;}#sk-container-id-3 pre{padding: 0;}#sk-container-id-3 div.sk-toggleable {background-color: white;}#sk-container-id-3 label.sk-toggleable__label {cursor: pointer;display: block;width: 100%;margin-bottom: 0;padding: 0.3em;box-sizing: border-box;text-align: center;}#sk-container-id-3 label.sk-toggleable__label-arrow:before {content: \"▸\";float: left;margin-right: 0.25em;color: #696969;}#sk-container-id-3 label.sk-toggleable__label-arrow:hover:before {color: black;}#sk-container-id-3 div.sk-estimator:hover label.sk-toggleable__label-arrow:before {color: black;}#sk-container-id-3 div.sk-toggleable__content {max-height: 0;max-width: 0;overflow: hidden;text-align: left;background-color: #f0f8ff;}#sk-container-id-3 div.sk-toggleable__content pre {margin: 0.2em;color: black;border-radius: 0.25em;background-color: #f0f8ff;}#sk-container-id-3 input.sk-toggleable__control:checked~div.sk-toggleable__content {max-height: 200px;max-width: 100%;overflow: auto;}#sk-container-id-3 input.sk-toggleable__control:checked~label.sk-toggleable__label-arrow:before {content: \"▾\";}#sk-container-id-3 div.sk-estimator input.sk-toggleable__control:checked~label.sk-toggleable__label {background-color: #d4ebff;}#sk-container-id-3 div.sk-label input.sk-toggleable__control:checked~label.sk-toggleable__label {background-color: #d4ebff;}#sk-container-id-3 input.sk-hidden--visually {border: 0;clip: rect(1px 1px 1px 1px);clip: rect(1px, 1px, 1px, 1px);height: 1px;margin: -1px;overflow: hidden;padding: 0;position: absolute;width: 1px;}#sk-container-id-3 div.sk-estimator {font-family: monospace;background-color: #f0f8ff;border: 1px dotted black;border-radius: 0.25em;box-sizing: border-box;margin-bottom: 0.5em;}#sk-container-id-3 div.sk-estimator:hover {background-color: #d4ebff;}#sk-container-id-3 div.sk-parallel-item::after {content: \"\";width: 100%;border-bottom: 1px solid gray;flex-grow: 1;}#sk-container-id-3 div.sk-label:hover label.sk-toggleable__label {background-color: #d4ebff;}#sk-container-id-3 div.sk-serial::before {content: \"\";position: absolute;border-left: 1px solid gray;box-sizing: border-box;top: 0;bottom: 0;left: 50%;z-index: 0;}#sk-container-id-3 div.sk-serial {display: flex;flex-direction: column;align-items: center;background-color: white;padding-right: 0.2em;padding-left: 0.2em;position: relative;}#sk-container-id-3 div.sk-item {position: relative;z-index: 1;}#sk-container-id-3 div.sk-parallel {display: flex;align-items: stretch;justify-content: center;background-color: white;position: relative;}#sk-container-id-3 div.sk-item::before, #sk-container-id-3 div.sk-parallel-item::before {content: \"\";position: absolute;border-left: 1px solid gray;box-sizing: border-box;top: 0;bottom: 0;left: 50%;z-index: -1;}#sk-container-id-3 div.sk-parallel-item {display: flex;flex-direction: column;z-index: 1;position: relative;background-color: white;}#sk-container-id-3 div.sk-parallel-item:first-child::after {align-self: flex-end;width: 50%;}#sk-container-id-3 div.sk-parallel-item:last-child::after {align-self: flex-start;width: 50%;}#sk-container-id-3 div.sk-parallel-item:only-child::after {width: 0;}#sk-container-id-3 div.sk-dashed-wrapped {border: 1px dashed gray;margin: 0 0.4em 0.5em 0.4em;box-sizing: border-box;padding-bottom: 0.4em;background-color: white;}#sk-container-id-3 div.sk-label label {font-family: monospace;font-weight: bold;display: inline-block;line-height: 1.2em;}#sk-container-id-3 div.sk-label-container {text-align: center;}#sk-container-id-3 div.sk-container {/* jupyter's `normalize.less` sets `[hidden] { display: none; }` but bootstrap.min.css set `[hidden] { display: none !important; }` so we also need the `!important` here to be able to override the default hidden behavior on the sphinx rendered scikit-learn.org. See: https://github.com/scikit-learn/scikit-learn/issues/21755 */display: inline-block !important;position: relative;}#sk-container-id-3 div.sk-text-repr-fallback {display: none;}</style><div id=\"sk-container-id-3\" class=\"sk-top-container\"><div class=\"sk-text-repr-fallback\"><pre>SVC(kernel=&#x27;linear&#x27;)</pre><b>In a Jupyter environment, please rerun this cell to show the HTML representation or trust the notebook. <br />On GitHub, the HTML representation is unable to render, please try loading this page with nbviewer.org.</b></div><div class=\"sk-container\" hidden><div class=\"sk-item\"><div class=\"sk-estimator sk-toggleable\"><input class=\"sk-toggleable__control sk-hidden--visually\" id=\"sk-estimator-id-3\" type=\"checkbox\" checked><label for=\"sk-estimator-id-3\" class=\"sk-toggleable__label sk-toggleable__label-arrow\">SVC</label><div class=\"sk-toggleable__content\"><pre>SVC(kernel=&#x27;linear&#x27;)</pre></div></div></div></div></div>"
      ],
      "text/plain": [
       "SVC(kernel='linear')"
      ]
     },
     "execution_count": 230,
     "metadata": {},
     "output_type": "execute_result"
    }
   ],
   "source": [
    "svm_classifier.fit(X_train, y_train)"
   ]
  },
  {
   "cell_type": "code",
   "execution_count": 231,
   "id": "b22fa258",
   "metadata": {},
   "outputs": [],
   "source": [
    "y_pred = svm_classifier.predict(X_test)\n"
   ]
  },
  {
   "cell_type": "code",
   "execution_count": 232,
   "id": "726efff3",
   "metadata": {},
   "outputs": [
    {
     "name": "stdout",
     "output_type": "stream",
     "text": [
      "Accuracy: 0.8461538461538461\n"
     ]
    }
   ],
   "source": [
    "accuracy = accuracy_score(y_test, y_pred)\n",
    "print(\"Accuracy:\", accuracy)"
   ]
  },
  {
   "cell_type": "markdown",
   "id": "0eaaa740",
   "metadata": {},
   "source": [
    "EVALUATING SVM MODEL"
   ]
  },
  {
   "cell_type": "code",
   "execution_count": 242,
   "id": "dde59577",
   "metadata": {},
   "outputs": [],
   "source": [
    "from sklearn.metrics import precision_score, recall_score, f1_score"
   ]
  },
  {
   "cell_type": "code",
   "execution_count": 243,
   "id": "d086f981",
   "metadata": {},
   "outputs": [],
   "source": [
    "y_pred = svm_classifier.predict(X_test)"
   ]
  },
  {
   "cell_type": "code",
   "execution_count": 281,
   "id": "07301498",
   "metadata": {},
   "outputs": [],
   "source": [
    "precision = precision_score(y_test, y_pred, average='micro', zero_division=1)\n",
    "recall = recall_score(y_test, y_pred, average='macro', zero_division=1)\n",
    "f1 = f1_score(y_test, y_pred, average='weighted', zero_division=1)"
   ]
  },
  {
   "cell_type": "code",
   "execution_count": 282,
   "id": "b356aad4",
   "metadata": {},
   "outputs": [
    {
     "name": "stdout",
     "output_type": "stream",
     "text": [
      "Precision: 0.8461538461538461\n",
      "Recall: 0.6666666666666666\n",
      "F1-score: 0.8076923076923077\n"
     ]
    }
   ],
   "source": [
    "print(\"Precision:\", precision)\n",
    "print(\"Recall:\", recall)\n",
    "print(\"F1-score:\", f1)"
   ]
  },
  {
   "cell_type": "code",
   "execution_count": 286,
   "id": "2f54bb59",
   "metadata": {},
   "outputs": [
    {
     "name": "stdout",
     "output_type": "stream",
     "text": [
      "\n",
      "Classification Report:\n",
      "              precision    recall  f1-score   support\n",
      "\n",
      "           0       1.00      1.00      1.00         5\n",
      "           5       0.00      0.00      0.00         1\n",
      "           6       1.00      1.00      1.00         3\n",
      "           7       1.00      1.00      1.00         2\n",
      "           9       0.33      1.00      0.50         1\n",
      "          10       0.00      0.00      0.00         1\n",
      "\n",
      "    accuracy                           0.85        13\n",
      "   macro avg       0.56      0.67      0.58        13\n",
      "weighted avg       0.79      0.85      0.81        13\n",
      "\n"
     ]
    }
   ],
   "source": [
    "print(\"\\nClassification Report:\")\n",
    "print(classification_report(y_test, y_pred, zero_division=0))"
   ]
  },
  {
   "cell_type": "code",
   "execution_count": null,
   "id": "9fc2b233",
   "metadata": {},
   "outputs": [],
   "source": []
  }
 ],
 "metadata": {
  "kernelspec": {
   "display_name": "Python 3 (ipykernel)",
   "language": "python",
   "name": "python3"
  },
  "language_info": {
   "codemirror_mode": {
    "name": "ipython",
    "version": 3
   },
   "file_extension": ".py",
   "mimetype": "text/x-python",
   "name": "python",
   "nbconvert_exporter": "python",
   "pygments_lexer": "ipython3",
   "version": "3.11.4"
  }
 },
 "nbformat": 4,
 "nbformat_minor": 5
}
